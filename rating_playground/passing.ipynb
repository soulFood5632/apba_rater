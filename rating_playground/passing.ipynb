{
 "cells": [
  {
   "cell_type": "markdown",
   "source": [
    "# Passing data model\n",
    "\n",
    "In this section we will be exploring the passing data model.\n"
   ],
   "metadata": {
    "collapsed": false
   }
  },
  {
   "cell_type": "code",
   "execution_count": 4,
   "outputs": [],
   "source": [
    "import pandas as pd\n",
    "import numpy as np\n",
    "import matplotlib.pyplot as plt\n",
    "import data_visuals as dv\n",
    "import database as db\n"
   ],
   "metadata": {
    "collapsed": false
   }
  },
  {
   "cell_type": "markdown",
   "source": [
    "### Previous Data Histogram\n",
    "\n",
    "We will first see the previous data histogram."
   ],
   "metadata": {
    "collapsed": false
   }
  },
  {
   "cell_type": "code",
   "execution_count": 5,
   "metadata": {
    "collapsed": true
   },
   "outputs": [
    {
     "ename": "TypeError",
     "evalue": "load_all_apba() takes 0 positional arguments but 1 was given",
     "output_type": "error",
     "traceback": [
      "\u001B[0;31m---------------------------------------------------------------------------\u001B[0m",
      "\u001B[0;31mTypeError\u001B[0m                                 Traceback (most recent call last)",
      "Cell \u001B[0;32mIn[5], line 1\u001B[0m\n\u001B[0;32m----> 1\u001B[0m apba \u001B[38;5;241m=\u001B[39m \u001B[43mdb\u001B[49m\u001B[38;5;241;43m.\u001B[39;49m\u001B[43mload_all_apba\u001B[49m\u001B[43m(\u001B[49m\u001B[38;5;124;43m\"\u001B[39;49m\u001B[38;5;124;43m/../\u001B[39;49m\u001B[38;5;124;43m\"\u001B[39;49m\u001B[43m)\u001B[49m\n\u001B[1;32m      3\u001B[0m dv\u001B[38;5;241m.\u001B[39mdata_histogram(apba, \u001B[38;5;124m'\u001B[39m\u001B[38;5;124mRatePassing\u001B[39m\u001B[38;5;124m'\u001B[39m, \u001B[38;5;241m5\u001B[39m)\n",
      "\u001B[0;31mTypeError\u001B[0m: load_all_apba() takes 0 positional arguments but 1 was given"
     ]
    }
   ],
   "source": [
    "apba = db.load_all_apba(\"/../\")\n",
    "\n",
    "dv.data_histogram(apba, 'RatePassing', 5)"
   ]
  },
  {
   "cell_type": "markdown",
   "source": [
    "## Passing Exploration"
   ],
   "metadata": {
    "collapsed": false
   }
  },
  {
   "cell_type": "markdown",
   "source": [
    "I am choosing to isolate the following variables for passing.\n",
    "1. On Ice shooting percentage (good passers should raise this)\n",
    "2. Expected Goals vs Goals differential (again good passers will outperform expected goals because they will attack the fundamental problem with the expected goals model).\n",
    "3. Goals per 60\n",
    "4. Expected Goals per 60\n",
    "5. Assists per 60"
   ],
   "metadata": {
    "collapsed": false
   }
  },
  {
   "cell_type": "code",
   "execution_count": null,
   "outputs": [],
   "source": [
    "# set up the data set\n",
    "\n",
    "real_data = db.load_hr(['14-15', '15-16', '16-17', '17-18', '18-19', '19-20', '20-21', '21-22', '22-23'])\n",
    "real_data.head()\n",
    "\n",
    "real_data.columns"
   ],
   "metadata": {
    "collapsed": false
   }
  }
 ],
 "metadata": {
  "kernelspec": {
   "display_name": "Python 3",
   "language": "python",
   "name": "python3"
  },
  "language_info": {
   "codemirror_mode": {
    "name": "ipython",
    "version": 2
   },
   "file_extension": ".py",
   "mimetype": "text/x-python",
   "name": "python",
   "nbconvert_exporter": "python",
   "pygments_lexer": "ipython2",
   "version": "2.7.6"
  }
 },
 "nbformat": 4,
 "nbformat_minor": 0
}
