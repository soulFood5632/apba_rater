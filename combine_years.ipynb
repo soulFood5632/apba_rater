{
 "cells": [
  {
   "cell_type": "code",
   "execution_count": 1,
   "metadata": {
    "collapsed": true
   },
   "outputs": [],
   "source": [
    "import pandas as pd"
   ]
  },
  {
   "cell_type": "code",
   "execution_count": 9,
   "outputs": [],
   "source": [
    "names = ['BasicData.csv', 'AdvancedData.csv', 'MiscData.csv', 'TOIData.csv']"
   ],
   "metadata": {
    "collapsed": false
   }
  },
  {
   "cell_type": "code",
   "execution_count": 10,
   "outputs": [],
   "source": [
    "def get_files_from_year(year):\n",
    "    return [pd.read_csv(f'HockeyRef_Data_Files/{year}_{name}') for name in names]\n",
    "\n",
    "data_2019 = get_files_from_year('18-19')"
   ],
   "metadata": {
    "collapsed": false
   }
  },
  {
   "cell_type": "code",
   "execution_count": 11,
   "outputs": [
    {
     "data": {
      "text/plain": "              Player  Age   Tm Pos  GP   G   A  PTS  PlusMin  PIM  ...  \\\n0  Justin Abdelkader   31  DET  LW  71   6  13   19      -14   38  ...   \n1       Pontus Åberg   25  TOT  LW  59  12  13   25      -14   20  ...   \n2     Vitaly Abramov   20  OTT  RW   1   0   0    0       -3    0  ...   \n3       Noel Acciari   27  BOS   C  72   6   8   14       -3   47  ...   \n4     Kenny Agostino   26  TOT  LW  63   6  18   24       -3   34  ...   \n\n   ShotPerc   TOI   ATOI  BLK  HIT  FOW  FOL  FOPerc        UID  season  \n0       6.3  1093  15:24   34  185   52   51    50.5  abdelju01   18-19  \n1      11.9   861  14:36   11   45    2   17    10.5  abergpo01   18-19  \n2       NaN    14  13:52    1    0    0    0     NaN  abramvi01   18-19  \n3       6.1   935  12:59   36  221  200  203    49.6  acciano01   18-19  \n4       7.6   814  12:55   14  143   15   27    35.7  agostke01   18-19  \n\n[5 rows x 29 columns]",
      "text/html": "<div>\n<style scoped>\n    .dataframe tbody tr th:only-of-type {\n        vertical-align: middle;\n    }\n\n    .dataframe tbody tr th {\n        vertical-align: top;\n    }\n\n    .dataframe thead th {\n        text-align: right;\n    }\n</style>\n<table border=\"1\" class=\"dataframe\">\n  <thead>\n    <tr style=\"text-align: right;\">\n      <th></th>\n      <th>Player</th>\n      <th>Age</th>\n      <th>Tm</th>\n      <th>Pos</th>\n      <th>GP</th>\n      <th>G</th>\n      <th>A</th>\n      <th>PTS</th>\n      <th>PlusMin</th>\n      <th>PIM</th>\n      <th>...</th>\n      <th>ShotPerc</th>\n      <th>TOI</th>\n      <th>ATOI</th>\n      <th>BLK</th>\n      <th>HIT</th>\n      <th>FOW</th>\n      <th>FOL</th>\n      <th>FOPerc</th>\n      <th>UID</th>\n      <th>season</th>\n    </tr>\n  </thead>\n  <tbody>\n    <tr>\n      <th>0</th>\n      <td>Justin Abdelkader</td>\n      <td>31</td>\n      <td>DET</td>\n      <td>LW</td>\n      <td>71</td>\n      <td>6</td>\n      <td>13</td>\n      <td>19</td>\n      <td>-14</td>\n      <td>38</td>\n      <td>...</td>\n      <td>6.3</td>\n      <td>1093</td>\n      <td>15:24</td>\n      <td>34</td>\n      <td>185</td>\n      <td>52</td>\n      <td>51</td>\n      <td>50.5</td>\n      <td>abdelju01</td>\n      <td>18-19</td>\n    </tr>\n    <tr>\n      <th>1</th>\n      <td>Pontus Åberg</td>\n      <td>25</td>\n      <td>TOT</td>\n      <td>LW</td>\n      <td>59</td>\n      <td>12</td>\n      <td>13</td>\n      <td>25</td>\n      <td>-14</td>\n      <td>20</td>\n      <td>...</td>\n      <td>11.9</td>\n      <td>861</td>\n      <td>14:36</td>\n      <td>11</td>\n      <td>45</td>\n      <td>2</td>\n      <td>17</td>\n      <td>10.5</td>\n      <td>abergpo01</td>\n      <td>18-19</td>\n    </tr>\n    <tr>\n      <th>2</th>\n      <td>Vitaly Abramov</td>\n      <td>20</td>\n      <td>OTT</td>\n      <td>RW</td>\n      <td>1</td>\n      <td>0</td>\n      <td>0</td>\n      <td>0</td>\n      <td>-3</td>\n      <td>0</td>\n      <td>...</td>\n      <td>NaN</td>\n      <td>14</td>\n      <td>13:52</td>\n      <td>1</td>\n      <td>0</td>\n      <td>0</td>\n      <td>0</td>\n      <td>NaN</td>\n      <td>abramvi01</td>\n      <td>18-19</td>\n    </tr>\n    <tr>\n      <th>3</th>\n      <td>Noel Acciari</td>\n      <td>27</td>\n      <td>BOS</td>\n      <td>C</td>\n      <td>72</td>\n      <td>6</td>\n      <td>8</td>\n      <td>14</td>\n      <td>-3</td>\n      <td>47</td>\n      <td>...</td>\n      <td>6.1</td>\n      <td>935</td>\n      <td>12:59</td>\n      <td>36</td>\n      <td>221</td>\n      <td>200</td>\n      <td>203</td>\n      <td>49.6</td>\n      <td>acciano01</td>\n      <td>18-19</td>\n    </tr>\n    <tr>\n      <th>4</th>\n      <td>Kenny Agostino</td>\n      <td>26</td>\n      <td>TOT</td>\n      <td>LW</td>\n      <td>63</td>\n      <td>6</td>\n      <td>18</td>\n      <td>24</td>\n      <td>-3</td>\n      <td>34</td>\n      <td>...</td>\n      <td>7.6</td>\n      <td>814</td>\n      <td>12:55</td>\n      <td>14</td>\n      <td>143</td>\n      <td>15</td>\n      <td>27</td>\n      <td>35.7</td>\n      <td>agostke01</td>\n      <td>18-19</td>\n    </tr>\n  </tbody>\n</table>\n<p>5 rows × 29 columns</p>\n</div>"
     },
     "execution_count": 11,
     "metadata": {},
     "output_type": "execute_result"
    }
   ],
   "source": [
    "data_2019[0].head()"
   ],
   "metadata": {
    "collapsed": false
   }
  },
  {
   "cell_type": "code",
   "execution_count": 12,
   "outputs": [
    {
     "data": {
      "text/plain": "   CorsiFor  CorsiAgainst  CorsiForPerc  CorsiForPercRel  FenwickF  FenwickA  \\\n0       782           918          46.0             -2.8       571       716   \n1       722           681          51.5              3.3       521       525   \n2         9            13          40.9             -1.8         4         9   \n3       717           721          49.9             -4.1       574       526   \n4       712           623          53.3              3.8       521       472   \n\n   FenwickPerc  FenwickPercRel  TeamOnIceShootPerc  TeamOnIceSavePerc  ...  \\\n0         44.4            -3.9                 6.7               91.7  ...   \n1         49.8             1.4                 7.8               88.6  ...   \n2         30.8           -11.3                 0.0               75.0  ...   \n3         52.2            -2.0                 5.5               93.1  ...   \n4         52.5             3.5                 7.7               91.0  ...   \n\n   OZoneStartPerc  DZoneStartPerc  ATOIEV TakeAways  GiveAways  EPlusMin  \\\n0            42.9            57.1   12:54         9         40     -11.0   \n1            56.2            43.8   12:31        15         36      -0.8   \n2           100.0             0.0   13:01         4          2      -0.8   \n3            34.3            65.7   11:23        35         13       2.6   \n4            55.3            44.7   11:36        25         30      -0.9   \n\n   ShotAttempts  ShotThruPerc        UID season  \n0         159.0          59.7  abdelju01  18-19  \n1           NaN           NaN  abergpo01  18-19  \n2           5.0           0.0  abramvi01  18-19  \n3         159.0          62.3  acciano01  18-19  \n4           NaN           NaN  agostke01  18-19  \n\n[5 rows x 21 columns]",
      "text/html": "<div>\n<style scoped>\n    .dataframe tbody tr th:only-of-type {\n        vertical-align: middle;\n    }\n\n    .dataframe tbody tr th {\n        vertical-align: top;\n    }\n\n    .dataframe thead th {\n        text-align: right;\n    }\n</style>\n<table border=\"1\" class=\"dataframe\">\n  <thead>\n    <tr style=\"text-align: right;\">\n      <th></th>\n      <th>CorsiFor</th>\n      <th>CorsiAgainst</th>\n      <th>CorsiForPerc</th>\n      <th>CorsiForPercRel</th>\n      <th>FenwickF</th>\n      <th>FenwickA</th>\n      <th>FenwickPerc</th>\n      <th>FenwickPercRel</th>\n      <th>TeamOnIceShootPerc</th>\n      <th>TeamOnIceSavePerc</th>\n      <th>...</th>\n      <th>OZoneStartPerc</th>\n      <th>DZoneStartPerc</th>\n      <th>ATOIEV</th>\n      <th>TakeAways</th>\n      <th>GiveAways</th>\n      <th>EPlusMin</th>\n      <th>ShotAttempts</th>\n      <th>ShotThruPerc</th>\n      <th>UID</th>\n      <th>season</th>\n    </tr>\n  </thead>\n  <tbody>\n    <tr>\n      <th>0</th>\n      <td>782</td>\n      <td>918</td>\n      <td>46.0</td>\n      <td>-2.8</td>\n      <td>571</td>\n      <td>716</td>\n      <td>44.4</td>\n      <td>-3.9</td>\n      <td>6.7</td>\n      <td>91.7</td>\n      <td>...</td>\n      <td>42.9</td>\n      <td>57.1</td>\n      <td>12:54</td>\n      <td>9</td>\n      <td>40</td>\n      <td>-11.0</td>\n      <td>159.0</td>\n      <td>59.7</td>\n      <td>abdelju01</td>\n      <td>18-19</td>\n    </tr>\n    <tr>\n      <th>1</th>\n      <td>722</td>\n      <td>681</td>\n      <td>51.5</td>\n      <td>3.3</td>\n      <td>521</td>\n      <td>525</td>\n      <td>49.8</td>\n      <td>1.4</td>\n      <td>7.8</td>\n      <td>88.6</td>\n      <td>...</td>\n      <td>56.2</td>\n      <td>43.8</td>\n      <td>12:31</td>\n      <td>15</td>\n      <td>36</td>\n      <td>-0.8</td>\n      <td>NaN</td>\n      <td>NaN</td>\n      <td>abergpo01</td>\n      <td>18-19</td>\n    </tr>\n    <tr>\n      <th>2</th>\n      <td>9</td>\n      <td>13</td>\n      <td>40.9</td>\n      <td>-1.8</td>\n      <td>4</td>\n      <td>9</td>\n      <td>30.8</td>\n      <td>-11.3</td>\n      <td>0.0</td>\n      <td>75.0</td>\n      <td>...</td>\n      <td>100.0</td>\n      <td>0.0</td>\n      <td>13:01</td>\n      <td>4</td>\n      <td>2</td>\n      <td>-0.8</td>\n      <td>5.0</td>\n      <td>0.0</td>\n      <td>abramvi01</td>\n      <td>18-19</td>\n    </tr>\n    <tr>\n      <th>3</th>\n      <td>717</td>\n      <td>721</td>\n      <td>49.9</td>\n      <td>-4.1</td>\n      <td>574</td>\n      <td>526</td>\n      <td>52.2</td>\n      <td>-2.0</td>\n      <td>5.5</td>\n      <td>93.1</td>\n      <td>...</td>\n      <td>34.3</td>\n      <td>65.7</td>\n      <td>11:23</td>\n      <td>35</td>\n      <td>13</td>\n      <td>2.6</td>\n      <td>159.0</td>\n      <td>62.3</td>\n      <td>acciano01</td>\n      <td>18-19</td>\n    </tr>\n    <tr>\n      <th>4</th>\n      <td>712</td>\n      <td>623</td>\n      <td>53.3</td>\n      <td>3.8</td>\n      <td>521</td>\n      <td>472</td>\n      <td>52.5</td>\n      <td>3.5</td>\n      <td>7.7</td>\n      <td>91.0</td>\n      <td>...</td>\n      <td>55.3</td>\n      <td>44.7</td>\n      <td>11:36</td>\n      <td>25</td>\n      <td>30</td>\n      <td>-0.9</td>\n      <td>NaN</td>\n      <td>NaN</td>\n      <td>agostke01</td>\n      <td>18-19</td>\n    </tr>\n  </tbody>\n</table>\n<p>5 rows × 21 columns</p>\n</div>"
     },
     "execution_count": 12,
     "metadata": {},
     "output_type": "execute_result"
    }
   ],
   "source": [
    "data_2019[1].head()"
   ],
   "metadata": {
    "collapsed": false
   }
  },
  {
   "cell_type": "code",
   "execution_count": 13,
   "outputs": [
    {
     "data": {
      "text/plain": "  Pos  GoalsCreated  GPerGame  APerGame  PtsPerGame  GoalsCreatedPerGame  \\\n0  LW             1      0.07      0.07        0.13                 0.05   \n1   D            13      0.16      0.29        0.45                 0.16   \n2   D             0      0.00      0.00        0.00                 0.00   \n3  RW             0      0.00      0.00        0.00                 0.00   \n4  LW             7      0.11      0.20        0.31                 0.11   \n\n   SOGPerGameAdjusted  GAdjusted  AAdjusted  PtsAdjusted  ...  PlusMin   XGF  \\\n0                0.60          1          1            2  ...       -2   3.2   \n1                2.20         13         24           37  ...        1  69.0   \n2                0.75          0          0            0  ...        1   1.6   \n3                1.50          0          0            0  ...       -1   0.5   \n4                1.08          7         13           20  ...       10  23.6   \n\n    XGA  XPlusMin  OPS  DPS  TotPS  ShootoutMiss        UID  season  \n0   3.7      -0.5  0.0  0.0    0.1           NaN  greeraj01   18-19  \n1  69.9      -0.8  2.6  4.2    6.8           NaN  ekblaaa01   18-19  \n2   2.6      -1.0 -0.1  0.2    0.1           NaN  clendad01   18-19  \n3   1.4      -0.8 -0.1  0.0   -0.1           NaN  crackad01   18-19  \n4  24.7      -1.1  0.8  1.0    1.7           NaN   ernead01   18-19  \n\n[5 rows x 25 columns]",
      "text/html": "<div>\n<style scoped>\n    .dataframe tbody tr th:only-of-type {\n        vertical-align: middle;\n    }\n\n    .dataframe tbody tr th {\n        vertical-align: top;\n    }\n\n    .dataframe thead th {\n        text-align: right;\n    }\n</style>\n<table border=\"1\" class=\"dataframe\">\n  <thead>\n    <tr style=\"text-align: right;\">\n      <th></th>\n      <th>Pos</th>\n      <th>GoalsCreated</th>\n      <th>GPerGame</th>\n      <th>APerGame</th>\n      <th>PtsPerGame</th>\n      <th>GoalsCreatedPerGame</th>\n      <th>SOGPerGameAdjusted</th>\n      <th>GAdjusted</th>\n      <th>AAdjusted</th>\n      <th>PtsAdjusted</th>\n      <th>...</th>\n      <th>PlusMin</th>\n      <th>XGF</th>\n      <th>XGA</th>\n      <th>XPlusMin</th>\n      <th>OPS</th>\n      <th>DPS</th>\n      <th>TotPS</th>\n      <th>ShootoutMiss</th>\n      <th>UID</th>\n      <th>season</th>\n    </tr>\n  </thead>\n  <tbody>\n    <tr>\n      <th>0</th>\n      <td>LW</td>\n      <td>1</td>\n      <td>0.07</td>\n      <td>0.07</td>\n      <td>0.13</td>\n      <td>0.05</td>\n      <td>0.60</td>\n      <td>1</td>\n      <td>1</td>\n      <td>2</td>\n      <td>...</td>\n      <td>-2</td>\n      <td>3.2</td>\n      <td>3.7</td>\n      <td>-0.5</td>\n      <td>0.0</td>\n      <td>0.0</td>\n      <td>0.1</td>\n      <td>NaN</td>\n      <td>greeraj01</td>\n      <td>18-19</td>\n    </tr>\n    <tr>\n      <th>1</th>\n      <td>D</td>\n      <td>13</td>\n      <td>0.16</td>\n      <td>0.29</td>\n      <td>0.45</td>\n      <td>0.16</td>\n      <td>2.20</td>\n      <td>13</td>\n      <td>24</td>\n      <td>37</td>\n      <td>...</td>\n      <td>1</td>\n      <td>69.0</td>\n      <td>69.9</td>\n      <td>-0.8</td>\n      <td>2.6</td>\n      <td>4.2</td>\n      <td>6.8</td>\n      <td>NaN</td>\n      <td>ekblaaa01</td>\n      <td>18-19</td>\n    </tr>\n    <tr>\n      <th>2</th>\n      <td>D</td>\n      <td>0</td>\n      <td>0.00</td>\n      <td>0.00</td>\n      <td>0.00</td>\n      <td>0.00</td>\n      <td>0.75</td>\n      <td>0</td>\n      <td>0</td>\n      <td>0</td>\n      <td>...</td>\n      <td>1</td>\n      <td>1.6</td>\n      <td>2.6</td>\n      <td>-1.0</td>\n      <td>-0.1</td>\n      <td>0.2</td>\n      <td>0.1</td>\n      <td>NaN</td>\n      <td>clendad01</td>\n      <td>18-19</td>\n    </tr>\n    <tr>\n      <th>3</th>\n      <td>RW</td>\n      <td>0</td>\n      <td>0.00</td>\n      <td>0.00</td>\n      <td>0.00</td>\n      <td>0.00</td>\n      <td>1.50</td>\n      <td>0</td>\n      <td>0</td>\n      <td>0</td>\n      <td>...</td>\n      <td>-1</td>\n      <td>0.5</td>\n      <td>1.4</td>\n      <td>-0.8</td>\n      <td>-0.1</td>\n      <td>0.0</td>\n      <td>-0.1</td>\n      <td>NaN</td>\n      <td>crackad01</td>\n      <td>18-19</td>\n    </tr>\n    <tr>\n      <th>4</th>\n      <td>LW</td>\n      <td>7</td>\n      <td>0.11</td>\n      <td>0.20</td>\n      <td>0.31</td>\n      <td>0.11</td>\n      <td>1.08</td>\n      <td>7</td>\n      <td>13</td>\n      <td>20</td>\n      <td>...</td>\n      <td>10</td>\n      <td>23.6</td>\n      <td>24.7</td>\n      <td>-1.1</td>\n      <td>0.8</td>\n      <td>1.0</td>\n      <td>1.7</td>\n      <td>NaN</td>\n      <td>ernead01</td>\n      <td>18-19</td>\n    </tr>\n  </tbody>\n</table>\n<p>5 rows × 25 columns</p>\n</div>"
     },
     "execution_count": 13,
     "metadata": {},
     "output_type": "execute_result"
    }
   ],
   "source": [
    "data_2019[2].head()"
   ],
   "metadata": {
    "collapsed": false
   }
  },
  {
   "cell_type": "code",
   "execution_count": 14,
   "outputs": [
    {
     "data": {
      "text/plain": "  ShiftLength  CorsiForRelES  GFPer60  GAPer60 ATOIPP  PPCorsiPercRel  \\\n0        0:42           -1.4      1.3      2.6   0:00             NaN   \n1        0:45            0.4      3.5      3.4   1:41            -2.2   \n2        0:40           -7.7      3.4      1.7   0:17            12.1   \n3        0:33            6.2      0.0      2.9   0:00             NaN   \n4        0:49           -3.0      2.7      1.9   0:30            -4.5   \n\n   PPGFPer60  PPGAPer60 ATOISH  CorsiForRelSH  SHFPPer60  SHGAPer60  \\\n0        0.0        0.0   0:00            NaN        NaN        NaN   \n1        7.4        1.7   2:18            7.9        0.6        7.6   \n2        0.0        0.0   1:30            9.5        0.0       10.0   \n3        NaN        NaN   0:10            NaN        NaN        NaN   \n4        7.5        0.0   0:17           12.9        3.2        3.2   \n\n         UID season  \n0  greeraj01  18-19  \n1  ekblaaa01  18-19  \n2  clendad01  18-19  \n3  crackad01  18-19  \n4   ernead01  18-19  ",
      "text/html": "<div>\n<style scoped>\n    .dataframe tbody tr th:only-of-type {\n        vertical-align: middle;\n    }\n\n    .dataframe tbody tr th {\n        vertical-align: top;\n    }\n\n    .dataframe thead th {\n        text-align: right;\n    }\n</style>\n<table border=\"1\" class=\"dataframe\">\n  <thead>\n    <tr style=\"text-align: right;\">\n      <th></th>\n      <th>ShiftLength</th>\n      <th>CorsiForRelES</th>\n      <th>GFPer60</th>\n      <th>GAPer60</th>\n      <th>ATOIPP</th>\n      <th>PPCorsiPercRel</th>\n      <th>PPGFPer60</th>\n      <th>PPGAPer60</th>\n      <th>ATOISH</th>\n      <th>CorsiForRelSH</th>\n      <th>SHFPPer60</th>\n      <th>SHGAPer60</th>\n      <th>UID</th>\n      <th>season</th>\n    </tr>\n  </thead>\n  <tbody>\n    <tr>\n      <th>0</th>\n      <td>0:42</td>\n      <td>-1.4</td>\n      <td>1.3</td>\n      <td>2.6</td>\n      <td>0:00</td>\n      <td>NaN</td>\n      <td>0.0</td>\n      <td>0.0</td>\n      <td>0:00</td>\n      <td>NaN</td>\n      <td>NaN</td>\n      <td>NaN</td>\n      <td>greeraj01</td>\n      <td>18-19</td>\n    </tr>\n    <tr>\n      <th>1</th>\n      <td>0:45</td>\n      <td>0.4</td>\n      <td>3.5</td>\n      <td>3.4</td>\n      <td>1:41</td>\n      <td>-2.2</td>\n      <td>7.4</td>\n      <td>1.7</td>\n      <td>2:18</td>\n      <td>7.9</td>\n      <td>0.6</td>\n      <td>7.6</td>\n      <td>ekblaaa01</td>\n      <td>18-19</td>\n    </tr>\n    <tr>\n      <th>2</th>\n      <td>0:40</td>\n      <td>-7.7</td>\n      <td>3.4</td>\n      <td>1.7</td>\n      <td>0:17</td>\n      <td>12.1</td>\n      <td>0.0</td>\n      <td>0.0</td>\n      <td>1:30</td>\n      <td>9.5</td>\n      <td>0.0</td>\n      <td>10.0</td>\n      <td>clendad01</td>\n      <td>18-19</td>\n    </tr>\n    <tr>\n      <th>3</th>\n      <td>0:33</td>\n      <td>6.2</td>\n      <td>0.0</td>\n      <td>2.9</td>\n      <td>0:00</td>\n      <td>NaN</td>\n      <td>NaN</td>\n      <td>NaN</td>\n      <td>0:10</td>\n      <td>NaN</td>\n      <td>NaN</td>\n      <td>NaN</td>\n      <td>crackad01</td>\n      <td>18-19</td>\n    </tr>\n    <tr>\n      <th>4</th>\n      <td>0:49</td>\n      <td>-3.0</td>\n      <td>2.7</td>\n      <td>1.9</td>\n      <td>0:30</td>\n      <td>-4.5</td>\n      <td>7.5</td>\n      <td>0.0</td>\n      <td>0:17</td>\n      <td>12.9</td>\n      <td>3.2</td>\n      <td>3.2</td>\n      <td>ernead01</td>\n      <td>18-19</td>\n    </tr>\n  </tbody>\n</table>\n</div>"
     },
     "execution_count": 14,
     "metadata": {},
     "output_type": "execute_result"
    }
   ],
   "source": [
    "data_2019[3].head()"
   ],
   "metadata": {
    "collapsed": false
   }
  },
  {
   "cell_type": "code",
   "execution_count": 20,
   "outputs": [
    {
     "data": {
      "text/plain": "                Player  Age   Tm Pos  GP   G   A  PTS  PlusMin  PIM  ...  \\\n0    Justin Abdelkader   31  DET  LW  71   6  13   19      -14   38  ...   \n1         Pontus Åberg   25  TOT  LW  59  12  13   25      -14   20  ...   \n2       Vitaly Abramov   20  OTT  RW   1   0   0    0       -3    0  ...   \n3         Noel Acciari   27  BOS   C  72   6   8   14       -3   47  ...   \n4       Kenny Agostino   26  TOT  LW  63   6  18   24       -3   34  ...   \n..                 ...  ...  ...  ..  ..  ..  ..  ...      ...  ...  ...   \n901       Jakub Zbořil   21  BOS   D   2   0   0    0        0    0  ...   \n902     Mika Zibanejad   25  NYR   C  82  30  44   74      -12   47  ...   \n903    Mats Zuccarello   31  TOT  LW  48  12  28   40       -8   24  ...   \n904       Jason Zucker   27  MIN  LW  81  21  21   42       -9   28  ...   \n905     Valentin Zykov   23  TOT  LW  28   2   3    5       -5    2  ...   \n\n     GAPer60  ATOIPP  PPCorsiPercRel  PPGFPer60  PPGAPer60  ATOISH  \\\n0        2.8    0:37            -1.4        6.8        0.0    1:52   \n1        3.7    2:04            -0.9        5.5        2.3    0:00   \n2        9.2    0:51           -60.0        0.0       70.6    0:00   \n3        1.8    0:02           -32.8        0.0       19.5    1:33   \n4        2.3    1:13            -2.8        6.9        0.0    0:03   \n..       ...     ...             ...        ...        ...     ...   \n901      0.0    0:00             NaN        NaN        NaN    0:02   \n902      3.6    2:50             0.6        8.2        0.5    1:59   \n903      0.0    2:59           -13.3        8.1        0.0    1:30   \n904      2.6    2:14             1.8        6.8        0.6    0:10   \n905      0.6    1:28            -4.1        5.7        1.9    0:00   \n\n     CorsiForRelSH  SHFPPer60  SHGAPer60  season  \n0             -2.4        0.5        6.4   18-19  \n1            -10.2        0.0        0.0   18-19  \n2              NaN        NaN        NaN   18-19  \n3             -6.2        0.0        5.9   18-19  \n4            -11.5        0.0        0.0   18-19  \n..             ...        ...        ...     ...  \n901            NaN        NaN        NaN   18-19  \n902           -6.9        1.1        8.9   18-19  \n903            NaN        NaN        NaN   18-19  \n904           15.9        4.2        0.0   18-19  \n905            NaN        NaN        NaN   18-19  \n\n[906 rows x 62 columns]",
      "text/html": "<div>\n<style scoped>\n    .dataframe tbody tr th:only-of-type {\n        vertical-align: middle;\n    }\n\n    .dataframe tbody tr th {\n        vertical-align: top;\n    }\n\n    .dataframe thead th {\n        text-align: right;\n    }\n</style>\n<table border=\"1\" class=\"dataframe\">\n  <thead>\n    <tr style=\"text-align: right;\">\n      <th></th>\n      <th>Player</th>\n      <th>Age</th>\n      <th>Tm</th>\n      <th>Pos</th>\n      <th>GP</th>\n      <th>G</th>\n      <th>A</th>\n      <th>PTS</th>\n      <th>PlusMin</th>\n      <th>PIM</th>\n      <th>...</th>\n      <th>GAPer60</th>\n      <th>ATOIPP</th>\n      <th>PPCorsiPercRel</th>\n      <th>PPGFPer60</th>\n      <th>PPGAPer60</th>\n      <th>ATOISH</th>\n      <th>CorsiForRelSH</th>\n      <th>SHFPPer60</th>\n      <th>SHGAPer60</th>\n      <th>season</th>\n    </tr>\n  </thead>\n  <tbody>\n    <tr>\n      <th>0</th>\n      <td>Justin Abdelkader</td>\n      <td>31</td>\n      <td>DET</td>\n      <td>LW</td>\n      <td>71</td>\n      <td>6</td>\n      <td>13</td>\n      <td>19</td>\n      <td>-14</td>\n      <td>38</td>\n      <td>...</td>\n      <td>2.8</td>\n      <td>0:37</td>\n      <td>-1.4</td>\n      <td>6.8</td>\n      <td>0.0</td>\n      <td>1:52</td>\n      <td>-2.4</td>\n      <td>0.5</td>\n      <td>6.4</td>\n      <td>18-19</td>\n    </tr>\n    <tr>\n      <th>1</th>\n      <td>Pontus Åberg</td>\n      <td>25</td>\n      <td>TOT</td>\n      <td>LW</td>\n      <td>59</td>\n      <td>12</td>\n      <td>13</td>\n      <td>25</td>\n      <td>-14</td>\n      <td>20</td>\n      <td>...</td>\n      <td>3.7</td>\n      <td>2:04</td>\n      <td>-0.9</td>\n      <td>5.5</td>\n      <td>2.3</td>\n      <td>0:00</td>\n      <td>-10.2</td>\n      <td>0.0</td>\n      <td>0.0</td>\n      <td>18-19</td>\n    </tr>\n    <tr>\n      <th>2</th>\n      <td>Vitaly Abramov</td>\n      <td>20</td>\n      <td>OTT</td>\n      <td>RW</td>\n      <td>1</td>\n      <td>0</td>\n      <td>0</td>\n      <td>0</td>\n      <td>-3</td>\n      <td>0</td>\n      <td>...</td>\n      <td>9.2</td>\n      <td>0:51</td>\n      <td>-60.0</td>\n      <td>0.0</td>\n      <td>70.6</td>\n      <td>0:00</td>\n      <td>NaN</td>\n      <td>NaN</td>\n      <td>NaN</td>\n      <td>18-19</td>\n    </tr>\n    <tr>\n      <th>3</th>\n      <td>Noel Acciari</td>\n      <td>27</td>\n      <td>BOS</td>\n      <td>C</td>\n      <td>72</td>\n      <td>6</td>\n      <td>8</td>\n      <td>14</td>\n      <td>-3</td>\n      <td>47</td>\n      <td>...</td>\n      <td>1.8</td>\n      <td>0:02</td>\n      <td>-32.8</td>\n      <td>0.0</td>\n      <td>19.5</td>\n      <td>1:33</td>\n      <td>-6.2</td>\n      <td>0.0</td>\n      <td>5.9</td>\n      <td>18-19</td>\n    </tr>\n    <tr>\n      <th>4</th>\n      <td>Kenny Agostino</td>\n      <td>26</td>\n      <td>TOT</td>\n      <td>LW</td>\n      <td>63</td>\n      <td>6</td>\n      <td>18</td>\n      <td>24</td>\n      <td>-3</td>\n      <td>34</td>\n      <td>...</td>\n      <td>2.3</td>\n      <td>1:13</td>\n      <td>-2.8</td>\n      <td>6.9</td>\n      <td>0.0</td>\n      <td>0:03</td>\n      <td>-11.5</td>\n      <td>0.0</td>\n      <td>0.0</td>\n      <td>18-19</td>\n    </tr>\n    <tr>\n      <th>...</th>\n      <td>...</td>\n      <td>...</td>\n      <td>...</td>\n      <td>...</td>\n      <td>...</td>\n      <td>...</td>\n      <td>...</td>\n      <td>...</td>\n      <td>...</td>\n      <td>...</td>\n      <td>...</td>\n      <td>...</td>\n      <td>...</td>\n      <td>...</td>\n      <td>...</td>\n      <td>...</td>\n      <td>...</td>\n      <td>...</td>\n      <td>...</td>\n      <td>...</td>\n      <td>...</td>\n    </tr>\n    <tr>\n      <th>901</th>\n      <td>Jakub Zbořil</td>\n      <td>21</td>\n      <td>BOS</td>\n      <td>D</td>\n      <td>2</td>\n      <td>0</td>\n      <td>0</td>\n      <td>0</td>\n      <td>0</td>\n      <td>0</td>\n      <td>...</td>\n      <td>0.0</td>\n      <td>0:00</td>\n      <td>NaN</td>\n      <td>NaN</td>\n      <td>NaN</td>\n      <td>0:02</td>\n      <td>NaN</td>\n      <td>NaN</td>\n      <td>NaN</td>\n      <td>18-19</td>\n    </tr>\n    <tr>\n      <th>902</th>\n      <td>Mika Zibanejad</td>\n      <td>25</td>\n      <td>NYR</td>\n      <td>C</td>\n      <td>82</td>\n      <td>30</td>\n      <td>44</td>\n      <td>74</td>\n      <td>-12</td>\n      <td>47</td>\n      <td>...</td>\n      <td>3.6</td>\n      <td>2:50</td>\n      <td>0.6</td>\n      <td>8.2</td>\n      <td>0.5</td>\n      <td>1:59</td>\n      <td>-6.9</td>\n      <td>1.1</td>\n      <td>8.9</td>\n      <td>18-19</td>\n    </tr>\n    <tr>\n      <th>903</th>\n      <td>Mats Zuccarello</td>\n      <td>31</td>\n      <td>TOT</td>\n      <td>LW</td>\n      <td>48</td>\n      <td>12</td>\n      <td>28</td>\n      <td>40</td>\n      <td>-8</td>\n      <td>24</td>\n      <td>...</td>\n      <td>0.0</td>\n      <td>2:59</td>\n      <td>-13.3</td>\n      <td>8.1</td>\n      <td>0.0</td>\n      <td>1:30</td>\n      <td>NaN</td>\n      <td>NaN</td>\n      <td>NaN</td>\n      <td>18-19</td>\n    </tr>\n    <tr>\n      <th>904</th>\n      <td>Jason Zucker</td>\n      <td>27</td>\n      <td>MIN</td>\n      <td>LW</td>\n      <td>81</td>\n      <td>21</td>\n      <td>21</td>\n      <td>42</td>\n      <td>-9</td>\n      <td>28</td>\n      <td>...</td>\n      <td>2.6</td>\n      <td>2:14</td>\n      <td>1.8</td>\n      <td>6.8</td>\n      <td>0.6</td>\n      <td>0:10</td>\n      <td>15.9</td>\n      <td>4.2</td>\n      <td>0.0</td>\n      <td>18-19</td>\n    </tr>\n    <tr>\n      <th>905</th>\n      <td>Valentin Zykov</td>\n      <td>23</td>\n      <td>TOT</td>\n      <td>LW</td>\n      <td>28</td>\n      <td>2</td>\n      <td>3</td>\n      <td>5</td>\n      <td>-5</td>\n      <td>2</td>\n      <td>...</td>\n      <td>0.6</td>\n      <td>1:28</td>\n      <td>-4.1</td>\n      <td>5.7</td>\n      <td>1.9</td>\n      <td>0:00</td>\n      <td>NaN</td>\n      <td>NaN</td>\n      <td>NaN</td>\n      <td>18-19</td>\n    </tr>\n  </tbody>\n</table>\n<p>906 rows × 62 columns</p>\n</div>"
     },
     "execution_count": 20,
     "metadata": {},
     "output_type": "execute_result"
    }
   ],
   "source": [
    "merged = pd.merge(data_2019[0], data_2019[1], on='UID', how='inner')\n",
    "# merged = pd.merge(merged, data_2019[2], on='UID', how='inner')\n",
    "\n",
    "merged = pd.merge(merged, data_2019[3], on='UID', how='inner')\n",
    "merged"
   ],
   "metadata": {
    "collapsed": false
   }
  },
  {
   "cell_type": "code",
   "execution_count": 27,
   "outputs": [
    {
     "data": {
      "text/plain": "                Player  Age   Tm Pos  GP   G   A  PTS  PlusMin  PIM  ...  \\\n0    Justin Abdelkader   31  DET  LW  71   6  13   19      -14   38  ...   \n1         Pontus Åberg   25  TOT  LW  59  12  13   25      -14   20  ...   \n2       Vitaly Abramov   20  OTT  RW   1   0   0    0       -3    0  ...   \n3         Noel Acciari   27  BOS   C  72   6   8   14       -3   47  ...   \n4       Kenny Agostino   26  TOT  LW  63   6  18   24       -3   34  ...   \n..                 ...  ...  ...  ..  ..  ..  ..  ...      ...  ...  ...   \n901       Jakub Zbořil   21  BOS   D   2   0   0    0        0    0  ...   \n902     Mika Zibanejad   25  NYR   C  82  30  44   74      -12   47  ...   \n903    Mats Zuccarello   31  TOT  LW  48  12  28   40       -8   24  ...   \n904       Jason Zucker   27  MIN  LW  81  21  21   42       -9   28  ...   \n905     Valentin Zykov   23  TOT  LW  28   2   3    5       -5    2  ...   \n\n     GFPer60  GAPer60  ATOIPP  PPCorsiPercRel  PPGFPer60  PPGAPer60  ATOISH  \\\n0        1.8      2.8    0:37            -1.4        6.8        0.0    1:52   \n1        2.9      3.7    2:04            -0.9        5.5        2.3    0:00   \n2        0.0      9.2    0:51           -60.0        0.0       70.6    0:00   \n3        1.7      1.8    0:02           -32.8        0.0       19.5    1:33   \n4        2.1      2.3    1:13            -2.8        6.9        0.0    0:03   \n..       ...      ...     ...             ...        ...        ...     ...   \n901      0.0      0.0    0:00             NaN        NaN        NaN    0:02   \n902      2.9      3.6    2:50             0.6        8.2        0.5    1:59   \n903      7.3      0.0    2:59           -13.3        8.1        0.0    1:30   \n904      2.1      2.6    2:14             1.8        6.8        0.6    0:10   \n905      0.6      0.6    1:28            -4.1        5.7        1.9    0:00   \n\n     CorsiForRelSH  SHFPPer60  SHGAPer60  \n0             -2.4        0.5        6.4  \n1            -10.2        0.0        0.0  \n2              NaN        NaN        NaN  \n3             -6.2        0.0        5.9  \n4            -11.5        0.0        0.0  \n..             ...        ...        ...  \n901            NaN        NaN        NaN  \n902           -6.9        1.1        8.9  \n903            NaN        NaN        NaN  \n904           15.9        4.2        0.0  \n905            NaN        NaN        NaN  \n\n[906 rows x 81 columns]",
      "text/html": "<div>\n<style scoped>\n    .dataframe tbody tr th:only-of-type {\n        vertical-align: middle;\n    }\n\n    .dataframe tbody tr th {\n        vertical-align: top;\n    }\n\n    .dataframe thead th {\n        text-align: right;\n    }\n</style>\n<table border=\"1\" class=\"dataframe\">\n  <thead>\n    <tr style=\"text-align: right;\">\n      <th></th>\n      <th>Player</th>\n      <th>Age</th>\n      <th>Tm</th>\n      <th>Pos</th>\n      <th>GP</th>\n      <th>G</th>\n      <th>A</th>\n      <th>PTS</th>\n      <th>PlusMin</th>\n      <th>PIM</th>\n      <th>...</th>\n      <th>GFPer60</th>\n      <th>GAPer60</th>\n      <th>ATOIPP</th>\n      <th>PPCorsiPercRel</th>\n      <th>PPGFPer60</th>\n      <th>PPGAPer60</th>\n      <th>ATOISH</th>\n      <th>CorsiForRelSH</th>\n      <th>SHFPPer60</th>\n      <th>SHGAPer60</th>\n    </tr>\n  </thead>\n  <tbody>\n    <tr>\n      <th>0</th>\n      <td>Justin Abdelkader</td>\n      <td>31</td>\n      <td>DET</td>\n      <td>LW</td>\n      <td>71</td>\n      <td>6</td>\n      <td>13</td>\n      <td>19</td>\n      <td>-14</td>\n      <td>38</td>\n      <td>...</td>\n      <td>1.8</td>\n      <td>2.8</td>\n      <td>0:37</td>\n      <td>-1.4</td>\n      <td>6.8</td>\n      <td>0.0</td>\n      <td>1:52</td>\n      <td>-2.4</td>\n      <td>0.5</td>\n      <td>6.4</td>\n    </tr>\n    <tr>\n      <th>1</th>\n      <td>Pontus Åberg</td>\n      <td>25</td>\n      <td>TOT</td>\n      <td>LW</td>\n      <td>59</td>\n      <td>12</td>\n      <td>13</td>\n      <td>25</td>\n      <td>-14</td>\n      <td>20</td>\n      <td>...</td>\n      <td>2.9</td>\n      <td>3.7</td>\n      <td>2:04</td>\n      <td>-0.9</td>\n      <td>5.5</td>\n      <td>2.3</td>\n      <td>0:00</td>\n      <td>-10.2</td>\n      <td>0.0</td>\n      <td>0.0</td>\n    </tr>\n    <tr>\n      <th>2</th>\n      <td>Vitaly Abramov</td>\n      <td>20</td>\n      <td>OTT</td>\n      <td>RW</td>\n      <td>1</td>\n      <td>0</td>\n      <td>0</td>\n      <td>0</td>\n      <td>-3</td>\n      <td>0</td>\n      <td>...</td>\n      <td>0.0</td>\n      <td>9.2</td>\n      <td>0:51</td>\n      <td>-60.0</td>\n      <td>0.0</td>\n      <td>70.6</td>\n      <td>0:00</td>\n      <td>NaN</td>\n      <td>NaN</td>\n      <td>NaN</td>\n    </tr>\n    <tr>\n      <th>3</th>\n      <td>Noel Acciari</td>\n      <td>27</td>\n      <td>BOS</td>\n      <td>C</td>\n      <td>72</td>\n      <td>6</td>\n      <td>8</td>\n      <td>14</td>\n      <td>-3</td>\n      <td>47</td>\n      <td>...</td>\n      <td>1.7</td>\n      <td>1.8</td>\n      <td>0:02</td>\n      <td>-32.8</td>\n      <td>0.0</td>\n      <td>19.5</td>\n      <td>1:33</td>\n      <td>-6.2</td>\n      <td>0.0</td>\n      <td>5.9</td>\n    </tr>\n    <tr>\n      <th>4</th>\n      <td>Kenny Agostino</td>\n      <td>26</td>\n      <td>TOT</td>\n      <td>LW</td>\n      <td>63</td>\n      <td>6</td>\n      <td>18</td>\n      <td>24</td>\n      <td>-3</td>\n      <td>34</td>\n      <td>...</td>\n      <td>2.1</td>\n      <td>2.3</td>\n      <td>1:13</td>\n      <td>-2.8</td>\n      <td>6.9</td>\n      <td>0.0</td>\n      <td>0:03</td>\n      <td>-11.5</td>\n      <td>0.0</td>\n      <td>0.0</td>\n    </tr>\n    <tr>\n      <th>...</th>\n      <td>...</td>\n      <td>...</td>\n      <td>...</td>\n      <td>...</td>\n      <td>...</td>\n      <td>...</td>\n      <td>...</td>\n      <td>...</td>\n      <td>...</td>\n      <td>...</td>\n      <td>...</td>\n      <td>...</td>\n      <td>...</td>\n      <td>...</td>\n      <td>...</td>\n      <td>...</td>\n      <td>...</td>\n      <td>...</td>\n      <td>...</td>\n      <td>...</td>\n      <td>...</td>\n    </tr>\n    <tr>\n      <th>901</th>\n      <td>Jakub Zbořil</td>\n      <td>21</td>\n      <td>BOS</td>\n      <td>D</td>\n      <td>2</td>\n      <td>0</td>\n      <td>0</td>\n      <td>0</td>\n      <td>0</td>\n      <td>0</td>\n      <td>...</td>\n      <td>0.0</td>\n      <td>0.0</td>\n      <td>0:00</td>\n      <td>NaN</td>\n      <td>NaN</td>\n      <td>NaN</td>\n      <td>0:02</td>\n      <td>NaN</td>\n      <td>NaN</td>\n      <td>NaN</td>\n    </tr>\n    <tr>\n      <th>902</th>\n      <td>Mika Zibanejad</td>\n      <td>25</td>\n      <td>NYR</td>\n      <td>C</td>\n      <td>82</td>\n      <td>30</td>\n      <td>44</td>\n      <td>74</td>\n      <td>-12</td>\n      <td>47</td>\n      <td>...</td>\n      <td>2.9</td>\n      <td>3.6</td>\n      <td>2:50</td>\n      <td>0.6</td>\n      <td>8.2</td>\n      <td>0.5</td>\n      <td>1:59</td>\n      <td>-6.9</td>\n      <td>1.1</td>\n      <td>8.9</td>\n    </tr>\n    <tr>\n      <th>903</th>\n      <td>Mats Zuccarello</td>\n      <td>31</td>\n      <td>TOT</td>\n      <td>LW</td>\n      <td>48</td>\n      <td>12</td>\n      <td>28</td>\n      <td>40</td>\n      <td>-8</td>\n      <td>24</td>\n      <td>...</td>\n      <td>7.3</td>\n      <td>0.0</td>\n      <td>2:59</td>\n      <td>-13.3</td>\n      <td>8.1</td>\n      <td>0.0</td>\n      <td>1:30</td>\n      <td>NaN</td>\n      <td>NaN</td>\n      <td>NaN</td>\n    </tr>\n    <tr>\n      <th>904</th>\n      <td>Jason Zucker</td>\n      <td>27</td>\n      <td>MIN</td>\n      <td>LW</td>\n      <td>81</td>\n      <td>21</td>\n      <td>21</td>\n      <td>42</td>\n      <td>-9</td>\n      <td>28</td>\n      <td>...</td>\n      <td>2.1</td>\n      <td>2.6</td>\n      <td>2:14</td>\n      <td>1.8</td>\n      <td>6.8</td>\n      <td>0.6</td>\n      <td>0:10</td>\n      <td>15.9</td>\n      <td>4.2</td>\n      <td>0.0</td>\n    </tr>\n    <tr>\n      <th>905</th>\n      <td>Valentin Zykov</td>\n      <td>23</td>\n      <td>TOT</td>\n      <td>LW</td>\n      <td>28</td>\n      <td>2</td>\n      <td>3</td>\n      <td>5</td>\n      <td>-5</td>\n      <td>2</td>\n      <td>...</td>\n      <td>0.6</td>\n      <td>0.6</td>\n      <td>1:28</td>\n      <td>-4.1</td>\n      <td>5.7</td>\n      <td>1.9</td>\n      <td>0:00</td>\n      <td>NaN</td>\n      <td>NaN</td>\n      <td>NaN</td>\n    </tr>\n  </tbody>\n</table>\n<p>906 rows × 81 columns</p>\n</div>"
     },
     "execution_count": 27,
     "metadata": {},
     "output_type": "execute_result"
    }
   ],
   "source": [
    "def merge_data(year):\n",
    "    data_files = get_files_from_year(year)\n",
    "    data_files[1] = data_files[1].drop(columns=['season'])\n",
    "    data_files[2] = data_files[2].drop(columns=['season', 'Pos', 'PlusMin'])\n",
    "    data_files[3] = data_files[3].drop(columns=['season'])\n",
    "    complete = pd.merge(data_files[0], data_files[1], on='UID', how='inner')\n",
    "\n",
    "    complete = pd.merge(complete, data_files[2], on='UID', how='inner')\n",
    "\n",
    "    complete = pd.merge(complete, data_files[3], on='UID', how='inner')\n",
    "    return complete\n",
    "\n",
    "m = merge_data('18-19')\n",
    "\n",
    "\n",
    "\n"
   ],
   "metadata": {
    "collapsed": false
   }
  },
  {
   "cell_type": "code",
   "execution_count": 29,
   "outputs": [
    {
     "name": "stdout",
     "output_type": "stream",
     "text": [
      "14-15\n",
      "              Player  Age   Tm Pos  GP   G   A  PTS  PlusMin  PIM  ...  \\\n",
      "0  Justin Abdelkader   27  DET  LW  71  23  21   44        3   72  ...   \n",
      "1         Will Acton   27  EDM   C   3   0   0    0       -2    5  ...   \n",
      "2          Luke Adam   24  CBJ   C   3   0   0    0        0    4  ...   \n",
      "3        Craig Adams   37  PIT  RW  70   1   6    7       -1   44  ...   \n",
      "4    Andrew Agozzino   24  COL  LW   1   0   1    1        1    0  ...   \n",
      "\n",
      "   GFPer60  GAPer60  ATOIPP  PPCorsiPercRel  PPGFPer60  PPGAPer60  ATOISH  \\\n",
      "0      2.9      2.3    2:48            -2.2        9.7        2.1    0:56   \n",
      "1      2.1      6.4    0:01             NaN        0.0        0.0    1:21   \n",
      "2      0.0      0.0    0:00             NaN        NaN        NaN    0:00   \n",
      "3      1.3      1.6    0:02            11.8        0.0        0.0    2:33   \n",
      "4      6.2      0.0    0:00             NaN        NaN        NaN    0:00   \n",
      "\n",
      "   CorsiForRelSH  SHFPPer60  SHGAPer60  \n",
      "0            1.9        0.0        4.5  \n",
      "1           -2.9        0.0       14.8  \n",
      "2            NaN        NaN        NaN  \n",
      "3           -1.4        0.7        5.0  \n",
      "4            NaN        NaN        NaN  \n",
      "\n",
      "[5 rows x 81 columns]\n",
      "15-16\n",
      "              Player  Age   Tm Pos  GP   G   A  PTS  PlusMin  PIM  ...  \\\n",
      "0  Justin Abdelkader   28  DET  LW  82  19  23   42      -16  120  ...   \n",
      "1       Noel Acciari   24  BOS   C  19   0   1    1       -4    8  ...   \n",
      "2     Kenny Agostino   23  CGY  LW   2   0   0    0       -2    0  ...   \n",
      "3    Andrew Agozzino   25  COL  LW   9   0   2    2       -1    0  ...   \n",
      "4        Karl Alzner   27  WSH   D  82   4  17   21       14   26  ...   \n",
      "\n",
      "   GFPer60  GAPer60  ATOIPP  PPCorsiPercRel  PPGFPer60  PPGAPer60  ATOISH  \\\n",
      "0      2.3      2.9    2:53            -0.1        7.4        0.7    1:36   \n",
      "1      1.5      3.0    0:05            10.4        0.0        0.0    1:16   \n",
      "2      0.0      4.9    1:21             8.3        0.0        0.0    0:00   \n",
      "3      0.8      1.6    0:15           -13.5       26.5        0.0    0:00   \n",
      "4      2.3      1.8    0:03            -9.6       20.6        0.0    2:50   \n",
      "\n",
      "   CorsiForRelSH  SHFPPer60  SHGAPer60  \n",
      "0           -2.4        0.0        4.1  \n",
      "1          -15.5        0.0        9.9  \n",
      "2            NaN        NaN        NaN  \n",
      "3          -11.4        NaN        NaN  \n",
      "4           -4.9        0.3        5.4  \n",
      "\n",
      "[5 rows x 81 columns]\n",
      "16-17\n",
      "              Player  Age   Tm Pos  GP  G   A  PTS  PlusMin  PIM  ...  \\\n",
      "0     Spencer Abbott   28  CHI  LW   1  0   0    0        0    0  ...   \n",
      "1  Justin Abdelkader   29  DET  LW  64  7  14   21      -20   50  ...   \n",
      "2       Pontus Åberg   23  NSH  LW  15  1   1    2       -2    4  ...   \n",
      "3       Noel Acciari   25  BOS   C  29  2   3    5        3   16  ...   \n",
      "4     Kenny Agostino   24  STL  LW   7  1   2    3        0    2  ...   \n",
      "\n",
      "   GFPer60  GAPer60  ATOIPP  PPCorsiPercRel  PPGFPer60  PPGAPer60  ATOISH  \\\n",
      "0      0.0      0.0    0:00             NaN        NaN        NaN    0:00   \n",
      "1      1.4      2.8    2:19             2.9        6.1        1.2    1:12   \n",
      "2      1.7      2.3    0:15             8.0        0.0        0.0    0:00   \n",
      "3      1.9      1.2    0:01             NaN        0.0        0.0    0:12   \n",
      "4      2.2      2.2    1:16             6.1        6.7        0.0    0:00   \n",
      "\n",
      "   CorsiForRelSH  SHFPPer60  SHGAPer60  \n",
      "0            NaN        NaN        NaN  \n",
      "1           -1.6        1.5        3.9  \n",
      "2            NaN        NaN        NaN  \n",
      "3            6.1        0.0        0.0  \n",
      "4            NaN        NaN        NaN  \n",
      "\n",
      "[5 rows x 81 columns]\n",
      "17-18\n",
      "              Player  Age   Tm Pos  GP   G   A  PTS  PlusMin  PIM  ...  \\\n",
      "0  Justin Abdelkader   30  DET  LW  75  13  22   35      -11   78  ...   \n",
      "1       Pontus Åberg   24  TOT  LW  53   4  12   16        9   10  ...   \n",
      "2       Noel Acciari   26  BOS   C  60  10   1   11       -6    9  ...   \n",
      "3     Kenny Agostino   25  BOS  LW   5   0   1    1       -1    4  ...   \n",
      "4      Sebastian Aho   20  CAR  RW  78  29  36   65        4   24  ...   \n",
      "\n",
      "   GFPer60  GAPer60  ATOIPP  PPCorsiPercRel  PPGFPer60  PPGAPer60  ATOISH  \\\n",
      "0      2.4      3.0    2:20             3.0        6.5        0.3    1:23   \n",
      "1      3.1      2.5    0:21            -9.6       10.1        3.4    0:01   \n",
      "2      1.7      2.3    0:04           -11.5        0.0        0.0    1:22   \n",
      "3      1.3      2.7    3:03            -2.0       15.7        0.0    0:00   \n",
      "4      3.2      2.9    2:40             2.1        6.9        0.3    0:02   \n",
      "\n",
      "   CorsiForRelSH  SHFPPer60  SHGAPer60  \n",
      "0            2.0        0.0        9.3  \n",
      "1            NaN        0.0        0.0  \n",
      "2           -5.7        0.7        4.4  \n",
      "3            NaN        NaN        NaN  \n",
      "4            9.9        0.0        0.0  \n",
      "\n",
      "[5 rows x 81 columns]\n",
      "18-19\n",
      "              Player  Age   Tm Pos  GP   G   A  PTS  PlusMin  PIM  ...  \\\n",
      "0  Justin Abdelkader   31  DET  LW  71   6  13   19      -14   38  ...   \n",
      "1       Pontus Åberg   25  TOT  LW  59  12  13   25      -14   20  ...   \n",
      "2     Vitaly Abramov   20  OTT  RW   1   0   0    0       -3    0  ...   \n",
      "3       Noel Acciari   27  BOS   C  72   6   8   14       -3   47  ...   \n",
      "4     Kenny Agostino   26  TOT  LW  63   6  18   24       -3   34  ...   \n",
      "\n",
      "   GFPer60  GAPer60  ATOIPP  PPCorsiPercRel  PPGFPer60  PPGAPer60  ATOISH  \\\n",
      "0      1.8      2.8    0:37            -1.4        6.8        0.0    1:52   \n",
      "1      2.9      3.7    2:04            -0.9        5.5        2.3    0:00   \n",
      "2      0.0      9.2    0:51           -60.0        0.0       70.6    0:00   \n",
      "3      1.7      1.8    0:02           -32.8        0.0       19.5    1:33   \n",
      "4      2.1      2.3    1:13            -2.8        6.9        0.0    0:03   \n",
      "\n",
      "   CorsiForRelSH  SHFPPer60  SHGAPer60  \n",
      "0           -2.4        0.5        6.4  \n",
      "1          -10.2        0.0        0.0  \n",
      "2            NaN        NaN        NaN  \n",
      "3           -6.2        0.0        5.9  \n",
      "4          -11.5        0.0        0.0  \n",
      "\n",
      "[5 rows x 81 columns]\n",
      "19-20\n",
      "              Player  Age   Tm Pos  GP   G  A  PTS  PlusMin  PIM  ...  \\\n",
      "0  Justin Abdelkader   32  DET  LW  49   0  3    3      -14   25  ...   \n",
      "1       Pontus Åberg   26  TOR  LW   5   0  1    1        0    0  ...   \n",
      "2     Vitaly Abramov   21  OTT  RW   2   1  0    1        0    2  ...   \n",
      "3       Noel Acciari   28  FLA   C  66  20  7   27        2   21  ...   \n",
      "4    Andrew Agozzino   29  TOT  LW  22   1  2    3        3    4  ...   \n",
      "\n",
      "   GFPer60  GAPer60  ATOIPP  PPCorsiPercRel  PPGFPer60  PPGAPer60  ATOISH  \\\n",
      "0      0.7      2.5    0:29            13.3        0.0        0.0    1:09   \n",
      "1      1.4      1.4    0:00             NaN        NaN        NaN    0:00   \n",
      "2      5.2      5.2    0:00             NaN        NaN        NaN    0:00   \n",
      "3      3.0      3.0    0:04            14.5       16.5        0.0    2:32   \n",
      "4      4.0      0.0    0:27            -6.6        0.0        0.0    0:03   \n",
      "\n",
      "   CorsiForRelSH  SHFPPer60  SHGAPer60  \n",
      "0           12.0        0.0        9.0  \n",
      "1            NaN        0.0        0.0  \n",
      "2            NaN        NaN        NaN  \n",
      "3           -8.7        0.3        8.8  \n",
      "4            NaN        0.0        0.0  \n",
      "\n",
      "[5 rows x 81 columns]\n",
      "20-21\n",
      "            Player  Age   Tm Pos  GP  G  A  PTS  PlusMin  PIM  ...  GFPer60  \\\n",
      "0   Vitaly Abramov   22  OTT  RW   2  0  0    0        0    0  ...      0.0   \n",
      "1     Noel Acciari   29  FLA   C  41  4  7   11        0    9  ...      2.0   \n",
      "2    Calen Addison   20  MIN   D   3  0  0    0        0    0  ...      3.8   \n",
      "3   Kenny Agostino   28  TOR  LW   1  0  0    0        0    0  ...      0.0   \n",
      "4  Andrew Agozzino   30  ANA  LW   3  0  1    1        0    0  ...      1.7   \n",
      "\n",
      "   GAPer60  ATOIPP  PPCorsiPercRel  PPGFPer60  PPGAPer60  ATOISH  \\\n",
      "0      0.0    0:00             NaN        NaN        NaN    0:00   \n",
      "1      2.3    0:27             3.0       12.2        0.0    2:40   \n",
      "2      2.5    2:44            10.0        0.0        0.0    0:00   \n",
      "3      0.0    0:00             NaN        NaN        NaN    0:00   \n",
      "4      1.7    0:00             NaN        0.0        0.0    0:13   \n",
      "\n",
      "   CorsiForRelSH  SHFPPer60  SHGAPer60  \n",
      "0            NaN        NaN        NaN  \n",
      "1           -3.9        1.1        7.1  \n",
      "2            NaN        NaN        NaN  \n",
      "3            NaN        NaN        NaN  \n",
      "4           -4.3        0.0        0.0  \n",
      "\n",
      "[5 rows x 81 columns]\n",
      "21-22\n",
      "   Rk              Player  Age   Tm Pos  GP  G  A  PTS  PlusMin  ...  GFPer60  \\\n",
      "0   1  Nicholas Abruzzese   22  TOR   C   9  1  0    1       -1  ...      NaN   \n",
      "1   2        Noel Acciari   30  FLA   C  20  3  5    8        2  ...      NaN   \n",
      "2   3       Calen Addison   21  MIN   D  15  2  2    4       -4  ...      NaN   \n",
      "3   4     Andrew Agozzino   31  OTT  LW   1  0  0    0        0  ...      NaN   \n",
      "4   5          Jack Ahcan   24  BOS   D   6  1  0    1       -3  ...      NaN   \n",
      "\n",
      "   GAPer60  ATOIPP  PPCorsiPercRel  PPGFPer60  PPGAPer60  ATOISH  \\\n",
      "0      NaN    1:01             5.2        NaN        NaN    0:00   \n",
      "1      NaN    0:09            12.5        NaN        NaN    1:11   \n",
      "2      NaN    1:31            -8.4        NaN        NaN    0:00   \n",
      "3      NaN    0:00             NaN        NaN        NaN    0:00   \n",
      "4      NaN    0:31            12.2        NaN        NaN    0:01   \n",
      "\n",
      "   CorsiForRelSH  SHFPPer60  SHGAPer60  \n",
      "0            NaN        NaN        NaN  \n",
      "1           -7.4        NaN        NaN  \n",
      "2            NaN        NaN        NaN  \n",
      "3            NaN        NaN        NaN  \n",
      "4            NaN        NaN        NaN  \n",
      "\n",
      "[5 rows x 82 columns]\n",
      "22-23\n",
      "               Player   Age   Tm Pos  GP   G   A  PTS  PlusMin  PIM  ...  \\\n",
      "0  Nicholas Abruzzese  23.0  TOR   C   2   0   2    2        1    0  ...   \n",
      "1        Noel Acciari  31.0  TOT   C  77  14   9   23       -4   21  ...   \n",
      "2       Calen Addison  22.0  MIN   D  62   3  26   29      -17   22  ...   \n",
      "3      Egor Afanasyev  22.0  NSH  LW  17   1   0    1       -7    2  ...   \n",
      "4     Andrew Agozzino  32.0  SJS  LW   4   1   2    3       -1    0  ...   \n",
      "\n",
      "   GFPer60  GAPer60  ATOIPP  PPCorsiPercRel  PPGFPer60  PPGAPer60  ATOISH  \\\n",
      "0      3.7      0.0    0:47           -29.5       38.3        0.0    0:00   \n",
      "1      2.2      2.8    0:09            -3.3        0.0        0.0    1:41   \n",
      "2      2.4      3.5    3:28             9.7       10.6        0.6    0:04   \n",
      "3      1.0      3.3    0:11            17.2        0.0        0.0    0:00   \n",
      "4      2.1      4.2    1:49           -26.5        0.0        0.0    0:19   \n",
      "\n",
      "   CorsiForRelSH  SHFPPer60  SHGAPer60  \n",
      "0            NaN        NaN        NaN  \n",
      "1           -4.4        0.7       10.7  \n",
      "2           37.3        0.0        0.0  \n",
      "3            NaN        NaN        NaN  \n",
      "4           44.1       46.2        0.0  \n",
      "\n",
      "[5 rows x 81 columns]\n"
     ]
    }
   ],
   "source": [
    "for i in range(14, 23):\n",
    "    year = f'{i}-{i+1}'\n",
    "    print(year)\n",
    "    m = merge_data(year)\n",
    "    print(m.head())\n",
    "    m.to_csv(f'HockeyRef_Data_Files/{year}_CompleteData.csv', index=False)"
   ],
   "metadata": {
    "collapsed": false
   }
  },
  {
   "cell_type": "code",
   "execution_count": null,
   "outputs": [],
   "source": [],
   "metadata": {
    "collapsed": false
   }
  }
 ],
 "metadata": {
  "kernelspec": {
   "display_name": "Python 3",
   "language": "python",
   "name": "python3"
  },
  "language_info": {
   "codemirror_mode": {
    "name": "ipython",
    "version": 2
   },
   "file_extension": ".py",
   "mimetype": "text/x-python",
   "name": "python",
   "nbconvert_exporter": "python",
   "pygments_lexer": "ipython2",
   "version": "2.7.6"
  }
 },
 "nbformat": 4,
 "nbformat_minor": 0
}
