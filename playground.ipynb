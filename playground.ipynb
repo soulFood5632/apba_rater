{
 "cells": [
  {
   "cell_type": "code",
   "execution_count": 1,
   "outputs": [],
   "source": [
    "import pandas as pd\n",
    "import os"
   ],
   "metadata": {
    "collapsed": false
   }
  },
  {
   "cell_type": "code",
   "execution_count": 3,
   "metadata": {
    "collapsed": true
   },
   "outputs": [
    {
     "name": "stdout",
     "output_type": "stream",
     "text": [
      "Index(['Last', 'First', 'Team', 'RateAssist', 'RateCDefence', 'RateClearing',\n",
      "       'RateCoincidentalMinor', 'RateCRank', 'RateCShotPct', 'RateCShotPlus',\n",
      "       ...\n",
      "       'SimShutouts', 'SimTies', 'SimWins', 'Unused1', 'Unused2', 'Unused3',\n",
      "       'Unused4', 'Unused5', 'Unused6', 'year'],\n",
      "      dtype='object', length=147)\n"
     ]
    }
   ],
   "source": [
    "\n",
    "\n",
    "all_apba = pd.DataFrame()\n",
    "    # gets the list of all files in the apba folder.\n",
    "for file in os.listdir(\"apba_data\"):\n",
    "        # this should never be false\n",
    "        if file.endswith(\".csv\"):\n",
    "            # the year is in the last two digits of the file name beofre the .csv\n",
    "            year = file.split(\".\")[0][-2:]\n",
    "            year_data = pd.read_csv(\"apba_data/\" + file)\n",
    "            year_data[\"year\"] = int(year) + 2000\n",
    "\n",
    "            all_apba = all_apba._append(year_data, ignore_index=True)\n",
    "print(all_apba.columns)"
   ]
  },
  {
   "cell_type": "code",
   "execution_count": 4,
   "outputs": [
    {
     "data": {
      "text/plain": "               Last       First Team  RateAssist  RateCDefence  RateClearing  \\\n0               Aho   Sebastian  CAR         126             4             0   \n1     Jos. Anderson        Josh  CBJ          44             0             0   \n2        Jo. Bailey        Josh  NYI         165             0             0   \n3            Barkov  Aleksander  FLA         112             4             0   \n4            Barzal      Mathew  NYI         153             2             0   \n...             ...         ...  ...         ...           ...           ...   \n8498          Omark       Linus  TOT          51             0             0   \n8499        C.Brown       Chris  TOT          74             1             0   \n8500          Vanek      Thomas  TOT         139             0             0   \n8501        Moulson        Matt  TOT          97             0             0   \n8502           Diaz     Raphael  TOT          33             0             1   \n\n      RateCoincidentalMinor RateCRank  RateCShotPct  RateCShotPlus  ...  \\\n0                         0         1            25             43  ...   \n1                         0       NaN             0              0  ...   \n2                         1       NaN             0              0  ...   \n3                         1         1            34             59  ...   \n4                         1         1            20             28  ...   \n...                     ...       ...           ...            ...  ...   \n8498                      1       NaN             0              0  ...   \n8499                      1       3.0            25             33  ...   \n8500                      1       NaN             0              0  ...   \n8501                      1       NaN             0              0  ...   \n8502                      1       NaN             0              0  ...   \n\n      SimShutouts  SimTies  SimWins  Unused1  Unused2 Unused3  Unused4  \\\n0               0        0        0      NaN      NaN     NaN      NaN   \n1               0        0        0      NaN      NaN     NaN      NaN   \n2               0        0        0      NaN      NaN     NaN      NaN   \n3               0        0        0      NaN      NaN     NaN      NaN   \n4               0        0        0      NaN      NaN     NaN      NaN   \n...           ...      ...      ...      ...      ...     ...      ...   \n8498            0        0        0      NaN      NaN     NaN      NaN   \n8499            0        0        0      NaN      NaN     NaN      NaN   \n8500            0        0        0      NaN      NaN     NaN      NaN   \n8501            0        0        0      NaN      NaN     NaN      NaN   \n8502            0        0        0      NaN      NaN     NaN      NaN   \n\n      Unused5  Unused6  year  \n0         NaN      NaN  2019  \n1         NaN      NaN  2019  \n2         NaN      NaN  2019  \n3         NaN      NaN  2019  \n4         NaN      NaN  2019  \n...       ...      ...   ...  \n8498      NaN      NaN  2014  \n8499      NaN      NaN  2014  \n8500      NaN      NaN  2014  \n8501      NaN      NaN  2014  \n8502      NaN      NaN  2014  \n\n[8503 rows x 147 columns]",
      "text/html": "<div>\n<style scoped>\n    .dataframe tbody tr th:only-of-type {\n        vertical-align: middle;\n    }\n\n    .dataframe tbody tr th {\n        vertical-align: top;\n    }\n\n    .dataframe thead th {\n        text-align: right;\n    }\n</style>\n<table border=\"1\" class=\"dataframe\">\n  <thead>\n    <tr style=\"text-align: right;\">\n      <th></th>\n      <th>Last</th>\n      <th>First</th>\n      <th>Team</th>\n      <th>RateAssist</th>\n      <th>RateCDefence</th>\n      <th>RateClearing</th>\n      <th>RateCoincidentalMinor</th>\n      <th>RateCRank</th>\n      <th>RateCShotPct</th>\n      <th>RateCShotPlus</th>\n      <th>...</th>\n      <th>SimShutouts</th>\n      <th>SimTies</th>\n      <th>SimWins</th>\n      <th>Unused1</th>\n      <th>Unused2</th>\n      <th>Unused3</th>\n      <th>Unused4</th>\n      <th>Unused5</th>\n      <th>Unused6</th>\n      <th>year</th>\n    </tr>\n  </thead>\n  <tbody>\n    <tr>\n      <th>0</th>\n      <td>Aho</td>\n      <td>Sebastian</td>\n      <td>CAR</td>\n      <td>126</td>\n      <td>4</td>\n      <td>0</td>\n      <td>0</td>\n      <td>1</td>\n      <td>25</td>\n      <td>43</td>\n      <td>...</td>\n      <td>0</td>\n      <td>0</td>\n      <td>0</td>\n      <td>NaN</td>\n      <td>NaN</td>\n      <td>NaN</td>\n      <td>NaN</td>\n      <td>NaN</td>\n      <td>NaN</td>\n      <td>2019</td>\n    </tr>\n    <tr>\n      <th>1</th>\n      <td>Jos. Anderson</td>\n      <td>Josh</td>\n      <td>CBJ</td>\n      <td>44</td>\n      <td>0</td>\n      <td>0</td>\n      <td>0</td>\n      <td>NaN</td>\n      <td>0</td>\n      <td>0</td>\n      <td>...</td>\n      <td>0</td>\n      <td>0</td>\n      <td>0</td>\n      <td>NaN</td>\n      <td>NaN</td>\n      <td>NaN</td>\n      <td>NaN</td>\n      <td>NaN</td>\n      <td>NaN</td>\n      <td>2019</td>\n    </tr>\n    <tr>\n      <th>2</th>\n      <td>Jo. Bailey</td>\n      <td>Josh</td>\n      <td>NYI</td>\n      <td>165</td>\n      <td>0</td>\n      <td>0</td>\n      <td>1</td>\n      <td>NaN</td>\n      <td>0</td>\n      <td>0</td>\n      <td>...</td>\n      <td>0</td>\n      <td>0</td>\n      <td>0</td>\n      <td>NaN</td>\n      <td>NaN</td>\n      <td>NaN</td>\n      <td>NaN</td>\n      <td>NaN</td>\n      <td>NaN</td>\n      <td>2019</td>\n    </tr>\n    <tr>\n      <th>3</th>\n      <td>Barkov</td>\n      <td>Aleksander</td>\n      <td>FLA</td>\n      <td>112</td>\n      <td>4</td>\n      <td>0</td>\n      <td>1</td>\n      <td>1</td>\n      <td>34</td>\n      <td>59</td>\n      <td>...</td>\n      <td>0</td>\n      <td>0</td>\n      <td>0</td>\n      <td>NaN</td>\n      <td>NaN</td>\n      <td>NaN</td>\n      <td>NaN</td>\n      <td>NaN</td>\n      <td>NaN</td>\n      <td>2019</td>\n    </tr>\n    <tr>\n      <th>4</th>\n      <td>Barzal</td>\n      <td>Mathew</td>\n      <td>NYI</td>\n      <td>153</td>\n      <td>2</td>\n      <td>0</td>\n      <td>1</td>\n      <td>1</td>\n      <td>20</td>\n      <td>28</td>\n      <td>...</td>\n      <td>0</td>\n      <td>0</td>\n      <td>0</td>\n      <td>NaN</td>\n      <td>NaN</td>\n      <td>NaN</td>\n      <td>NaN</td>\n      <td>NaN</td>\n      <td>NaN</td>\n      <td>2019</td>\n    </tr>\n    <tr>\n      <th>...</th>\n      <td>...</td>\n      <td>...</td>\n      <td>...</td>\n      <td>...</td>\n      <td>...</td>\n      <td>...</td>\n      <td>...</td>\n      <td>...</td>\n      <td>...</td>\n      <td>...</td>\n      <td>...</td>\n      <td>...</td>\n      <td>...</td>\n      <td>...</td>\n      <td>...</td>\n      <td>...</td>\n      <td>...</td>\n      <td>...</td>\n      <td>...</td>\n      <td>...</td>\n      <td>...</td>\n    </tr>\n    <tr>\n      <th>8498</th>\n      <td>Omark</td>\n      <td>Linus</td>\n      <td>TOT</td>\n      <td>51</td>\n      <td>0</td>\n      <td>0</td>\n      <td>1</td>\n      <td>NaN</td>\n      <td>0</td>\n      <td>0</td>\n      <td>...</td>\n      <td>0</td>\n      <td>0</td>\n      <td>0</td>\n      <td>NaN</td>\n      <td>NaN</td>\n      <td>NaN</td>\n      <td>NaN</td>\n      <td>NaN</td>\n      <td>NaN</td>\n      <td>2014</td>\n    </tr>\n    <tr>\n      <th>8499</th>\n      <td>C.Brown</td>\n      <td>Chris</td>\n      <td>TOT</td>\n      <td>74</td>\n      <td>1</td>\n      <td>0</td>\n      <td>1</td>\n      <td>3.0</td>\n      <td>25</td>\n      <td>33</td>\n      <td>...</td>\n      <td>0</td>\n      <td>0</td>\n      <td>0</td>\n      <td>NaN</td>\n      <td>NaN</td>\n      <td>NaN</td>\n      <td>NaN</td>\n      <td>NaN</td>\n      <td>NaN</td>\n      <td>2014</td>\n    </tr>\n    <tr>\n      <th>8500</th>\n      <td>Vanek</td>\n      <td>Thomas</td>\n      <td>TOT</td>\n      <td>139</td>\n      <td>0</td>\n      <td>0</td>\n      <td>1</td>\n      <td>NaN</td>\n      <td>0</td>\n      <td>0</td>\n      <td>...</td>\n      <td>0</td>\n      <td>0</td>\n      <td>0</td>\n      <td>NaN</td>\n      <td>NaN</td>\n      <td>NaN</td>\n      <td>NaN</td>\n      <td>NaN</td>\n      <td>NaN</td>\n      <td>2014</td>\n    </tr>\n    <tr>\n      <th>8501</th>\n      <td>Moulson</td>\n      <td>Matt</td>\n      <td>TOT</td>\n      <td>97</td>\n      <td>0</td>\n      <td>0</td>\n      <td>1</td>\n      <td>NaN</td>\n      <td>0</td>\n      <td>0</td>\n      <td>...</td>\n      <td>0</td>\n      <td>0</td>\n      <td>0</td>\n      <td>NaN</td>\n      <td>NaN</td>\n      <td>NaN</td>\n      <td>NaN</td>\n      <td>NaN</td>\n      <td>NaN</td>\n      <td>2014</td>\n    </tr>\n    <tr>\n      <th>8502</th>\n      <td>Diaz</td>\n      <td>Raphael</td>\n      <td>TOT</td>\n      <td>33</td>\n      <td>0</td>\n      <td>1</td>\n      <td>1</td>\n      <td>NaN</td>\n      <td>0</td>\n      <td>0</td>\n      <td>...</td>\n      <td>0</td>\n      <td>0</td>\n      <td>0</td>\n      <td>NaN</td>\n      <td>NaN</td>\n      <td>NaN</td>\n      <td>NaN</td>\n      <td>NaN</td>\n      <td>NaN</td>\n      <td>2014</td>\n    </tr>\n  </tbody>\n</table>\n<p>8503 rows × 147 columns</p>\n</div>"
     },
     "execution_count": 4,
     "metadata": {},
     "output_type": "execute_result"
    }
   ],
   "source": [
    "all_apba"
   ],
   "metadata": {
    "collapsed": false
   }
  },
  {
   "cell_type": "code",
   "execution_count": 13,
   "outputs": [],
   "source": [
    "cols = all_apba.columns.tolist()"
   ],
   "metadata": {
    "collapsed": false
   }
  },
  {
   "cell_type": "code",
   "execution_count": 14,
   "outputs": [
    {
     "data": {
      "text/plain": "['Last',\n 'First',\n 'Team',\n 'RateAssist',\n 'RateCDefence',\n 'RateClearing',\n 'RateCoincidentalMinor',\n 'RateCRank',\n 'RateCShotPct',\n 'RateCShotPlus',\n 'RateFaceoff',\n 'RateFight',\n 'RateForechecking',\n 'RateGameFatigue',\n 'RateGameMisconduct',\n 'RateGRank',\n 'RateGrossMisconduct',\n 'RateHiddenGoalScored',\n 'RateHiddenSaveClear',\n 'RateHiddenSaveFaceoff',\n 'RateHiddenSaveRebound',\n 'RateHiddenShotDefender',\n 'RateHiddenShotDeflected',\n 'RateHiddenShotOnGoal',\n 'RateHiddenShotWide',\n 'RateInactive',\n 'RateInjuryFactor',\n 'RateIntimidation',\n 'RateLDDefence',\n 'RateLDRank',\n 'RateLDShotPct',\n 'RateLDShotPlus',\n 'RateLWDefense',\n 'RateLWRank',\n 'RateLWShotPct',\n 'RateLWShotPlus',\n 'RateMajor',\n 'RateMatch',\n 'RateMinor',\n 'RateMisconduct',\n 'RatePassing',\n 'RatePenaltyKilling',\n 'RatePhysical',\n 'RatePosition',\n 'RateRDDefence',\n 'RateRDRank',\n 'RankRDShotPct',\n 'RateRDShotPlus',\n 'RateRock',\n 'RateRookie',\n 'RateRwDefence',\n 'RateRWRank',\n 'RateRWShotPct',\n 'RateRWShotPlus',\n 'RateSDefence',\n 'RateShiftFatigue',\n 'RateShotBlocking',\n 'RateSkating',\n 'RateSpeed',\n 'RateSShotPct',\n 'RateSShotPlus',\n 'RealAssists',\n 'RealBlockedShots',\n 'RealCornersLost',\n 'RealCornersWon',\n 'RealCurrentPointStreak',\n 'RealEmptyNetGoals',\n 'RealFaceoffsLost',\n 'RealFaceoffsWon',\n 'RealFightsLost',\n 'RealFightsTied',\n 'RealFightsWon',\n 'RealGAA',\n 'RealGamesPlayed',\n 'RealGameTyingGoals',\n 'RealGameWinningGoals',\n 'RealGoals',\n 'RealGoalsAgainst',\n 'RealHits',\n 'RealLongestPointStreak',\n 'RealLosses',\n 'RealMinutes',\n 'RealPassesCompleted',\n 'RealPassesIncomplete',\n 'RealPenaltyMinutes',\n 'RealPlusMinus',\n 'RealPoints',\n 'RealPowerplayGoals',\n 'RealSavePct',\n 'RealSaves',\n 'RealShorthandedGoals',\n 'RealShotsOnGoal',\n 'RealShutouts',\n 'RealTies',\n 'RealWins',\n 'SimAssists',\n 'SimAssistsLastGame',\n 'SimBlockedShots',\n 'SimCoincidentalMinors',\n 'SimCornersLost',\n 'SimCornersWon',\n 'SimCurrentPointStreak',\n 'SimDaysInjured',\n 'SimEmptyNetGoals',\n 'SimFaceoffsLost',\n 'SimFaceoffsWon',\n 'SimFights',\n 'SimFightsLost',\n 'SimFightsTied',\n 'SimFightsWon',\n 'SimGAA',\n 'SimGameMisconducts',\n 'SimGamesPlayed',\n 'SimGameTyingGoals',\n 'SimGameWinningGoals',\n 'SimGoals',\n 'SimGoalsAgainst',\n 'SimGoalsLastGame',\n 'SimGrossMisconducts',\n 'SimHits',\n 'SimLongestPointStreak',\n 'SimLosses',\n 'SimMajors',\n 'SimMatches',\n 'SimMinors',\n 'SimMinutes',\n 'SimMisconducts',\n 'SimPassesCompleted',\n 'SimPassesIncomplete',\n 'SimPenaltiesInMinutes',\n 'SimPlusMinus',\n 'SimPoints',\n 'SimPowerPlayGoals',\n 'SimSavePct',\n 'SimSaves',\n 'SimShorthandedGoals',\n 'SimShotsOnGoal',\n 'SimShutouts',\n 'SimTies',\n 'SimWins',\n 'Unused1',\n 'Unused2',\n 'Unused3',\n 'Unused4',\n 'Unused5',\n 'Unused6',\n 'year']"
     },
     "execution_count": 14,
     "metadata": {},
     "output_type": "execute_result"
    }
   ],
   "source": [
    "cols"
   ],
   "metadata": {
    "collapsed": false
   }
  },
  {
   "cell_type": "code",
   "execution_count": 15,
   "outputs": [],
   "source": [
    "good_cols = ['Last', 'First', 'year']\n",
    "good_cols += [col for col in cols if col.startswith(\"Rate\")]\n",
    "\n",
    "all_apba = all_apba.filter(items=good_cols)"
   ],
   "metadata": {
    "collapsed": false
   }
  },
  {
   "cell_type": "code",
   "execution_count": 16,
   "outputs": [
    {
     "data": {
      "text/plain": "               Last       First  year  RateAssist  RateCDefence  RateClearing  \\\n0               Aho   Sebastian  2019         126             4             0   \n1     Jos. Anderson        Josh  2019          44             0             0   \n2        Jo. Bailey        Josh  2019         165             0             0   \n3            Barkov  Aleksander  2019         112             4             0   \n4            Barzal      Mathew  2019         153             2             0   \n...             ...         ...   ...         ...           ...           ...   \n8498          Omark       Linus  2014          51             0             0   \n8499        C.Brown       Chris  2014          74             1             0   \n8500          Vanek      Thomas  2014         139             0             0   \n8501        Moulson        Matt  2014          97             0             0   \n8502           Diaz     Raphael  2014          33             0             1   \n\n      RateCoincidentalMinor RateCRank  RateCShotPct  RateCShotPlus  ...  \\\n0                         0         1            25             43  ...   \n1                         0       NaN             0              0  ...   \n2                         1       NaN             0              0  ...   \n3                         1         1            34             59  ...   \n4                         1         1            20             28  ...   \n...                     ...       ...           ...            ...  ...   \n8498                      1       NaN             0              0  ...   \n8499                      1       3.0            25             33  ...   \n8500                      1       NaN             0              0  ...   \n8501                      1       NaN             0              0  ...   \n8502                      1       NaN             0              0  ...   \n\n      RateRWRank  RateRWShotPct  RateRWShotPlus  RateSDefence  \\\n0            NaN              0               0             0   \n1              1             23              53             0   \n2              1             25              33             0   \n3            NaN              0               0             0   \n4            NaN              0               0             0   \n...          ...            ...             ...           ...   \n8498         1.0              0               0             0   \n8499         1.0             25              33             0   \n8500         2.0             22              36             0   \n8501         NaN              0               0             0   \n8502         NaN              0               0             0   \n\n      RateShiftFatigue RateShotBlocking  RateSkating  RateSpeed  RateSShotPct  \\\n0                   90                0            5          5            25   \n1                   90                0            4          4            23   \n2                   90                0            4          3            25   \n3                   90                0            4          4            34   \n4                   90                0            5          5            20   \n...                ...              ...          ...        ...           ...   \n8498                90                0            3          3             0   \n8499                90                0            2          3            25   \n8500                90                0            3          3            22   \n8501                90                0            3          3            26   \n8502               120                2            3          3             6   \n\n      RateSShotPlus  \n0                43  \n1                53  \n2                33  \n3                59  \n4                28  \n...             ...  \n8498              3  \n8499             33  \n8500             36  \n8501             38  \n8502             15  \n\n[8503 rows x 60 columns]",
      "text/html": "<div>\n<style scoped>\n    .dataframe tbody tr th:only-of-type {\n        vertical-align: middle;\n    }\n\n    .dataframe tbody tr th {\n        vertical-align: top;\n    }\n\n    .dataframe thead th {\n        text-align: right;\n    }\n</style>\n<table border=\"1\" class=\"dataframe\">\n  <thead>\n    <tr style=\"text-align: right;\">\n      <th></th>\n      <th>Last</th>\n      <th>First</th>\n      <th>year</th>\n      <th>RateAssist</th>\n      <th>RateCDefence</th>\n      <th>RateClearing</th>\n      <th>RateCoincidentalMinor</th>\n      <th>RateCRank</th>\n      <th>RateCShotPct</th>\n      <th>RateCShotPlus</th>\n      <th>...</th>\n      <th>RateRWRank</th>\n      <th>RateRWShotPct</th>\n      <th>RateRWShotPlus</th>\n      <th>RateSDefence</th>\n      <th>RateShiftFatigue</th>\n      <th>RateShotBlocking</th>\n      <th>RateSkating</th>\n      <th>RateSpeed</th>\n      <th>RateSShotPct</th>\n      <th>RateSShotPlus</th>\n    </tr>\n  </thead>\n  <tbody>\n    <tr>\n      <th>0</th>\n      <td>Aho</td>\n      <td>Sebastian</td>\n      <td>2019</td>\n      <td>126</td>\n      <td>4</td>\n      <td>0</td>\n      <td>0</td>\n      <td>1</td>\n      <td>25</td>\n      <td>43</td>\n      <td>...</td>\n      <td>NaN</td>\n      <td>0</td>\n      <td>0</td>\n      <td>0</td>\n      <td>90</td>\n      <td>0</td>\n      <td>5</td>\n      <td>5</td>\n      <td>25</td>\n      <td>43</td>\n    </tr>\n    <tr>\n      <th>1</th>\n      <td>Jos. Anderson</td>\n      <td>Josh</td>\n      <td>2019</td>\n      <td>44</td>\n      <td>0</td>\n      <td>0</td>\n      <td>0</td>\n      <td>NaN</td>\n      <td>0</td>\n      <td>0</td>\n      <td>...</td>\n      <td>1</td>\n      <td>23</td>\n      <td>53</td>\n      <td>0</td>\n      <td>90</td>\n      <td>0</td>\n      <td>4</td>\n      <td>4</td>\n      <td>23</td>\n      <td>53</td>\n    </tr>\n    <tr>\n      <th>2</th>\n      <td>Jo. Bailey</td>\n      <td>Josh</td>\n      <td>2019</td>\n      <td>165</td>\n      <td>0</td>\n      <td>0</td>\n      <td>1</td>\n      <td>NaN</td>\n      <td>0</td>\n      <td>0</td>\n      <td>...</td>\n      <td>1</td>\n      <td>25</td>\n      <td>33</td>\n      <td>0</td>\n      <td>90</td>\n      <td>0</td>\n      <td>4</td>\n      <td>3</td>\n      <td>25</td>\n      <td>33</td>\n    </tr>\n    <tr>\n      <th>3</th>\n      <td>Barkov</td>\n      <td>Aleksander</td>\n      <td>2019</td>\n      <td>112</td>\n      <td>4</td>\n      <td>0</td>\n      <td>1</td>\n      <td>1</td>\n      <td>34</td>\n      <td>59</td>\n      <td>...</td>\n      <td>NaN</td>\n      <td>0</td>\n      <td>0</td>\n      <td>0</td>\n      <td>90</td>\n      <td>0</td>\n      <td>4</td>\n      <td>4</td>\n      <td>34</td>\n      <td>59</td>\n    </tr>\n    <tr>\n      <th>4</th>\n      <td>Barzal</td>\n      <td>Mathew</td>\n      <td>2019</td>\n      <td>153</td>\n      <td>2</td>\n      <td>0</td>\n      <td>1</td>\n      <td>1</td>\n      <td>20</td>\n      <td>28</td>\n      <td>...</td>\n      <td>NaN</td>\n      <td>0</td>\n      <td>0</td>\n      <td>0</td>\n      <td>90</td>\n      <td>0</td>\n      <td>5</td>\n      <td>5</td>\n      <td>20</td>\n      <td>28</td>\n    </tr>\n    <tr>\n      <th>...</th>\n      <td>...</td>\n      <td>...</td>\n      <td>...</td>\n      <td>...</td>\n      <td>...</td>\n      <td>...</td>\n      <td>...</td>\n      <td>...</td>\n      <td>...</td>\n      <td>...</td>\n      <td>...</td>\n      <td>...</td>\n      <td>...</td>\n      <td>...</td>\n      <td>...</td>\n      <td>...</td>\n      <td>...</td>\n      <td>...</td>\n      <td>...</td>\n      <td>...</td>\n      <td>...</td>\n    </tr>\n    <tr>\n      <th>8498</th>\n      <td>Omark</td>\n      <td>Linus</td>\n      <td>2014</td>\n      <td>51</td>\n      <td>0</td>\n      <td>0</td>\n      <td>1</td>\n      <td>NaN</td>\n      <td>0</td>\n      <td>0</td>\n      <td>...</td>\n      <td>1.0</td>\n      <td>0</td>\n      <td>0</td>\n      <td>0</td>\n      <td>90</td>\n      <td>0</td>\n      <td>3</td>\n      <td>3</td>\n      <td>0</td>\n      <td>3</td>\n    </tr>\n    <tr>\n      <th>8499</th>\n      <td>C.Brown</td>\n      <td>Chris</td>\n      <td>2014</td>\n      <td>74</td>\n      <td>1</td>\n      <td>0</td>\n      <td>1</td>\n      <td>3.0</td>\n      <td>25</td>\n      <td>33</td>\n      <td>...</td>\n      <td>1.0</td>\n      <td>25</td>\n      <td>33</td>\n      <td>0</td>\n      <td>90</td>\n      <td>0</td>\n      <td>2</td>\n      <td>3</td>\n      <td>25</td>\n      <td>33</td>\n    </tr>\n    <tr>\n      <th>8500</th>\n      <td>Vanek</td>\n      <td>Thomas</td>\n      <td>2014</td>\n      <td>139</td>\n      <td>0</td>\n      <td>0</td>\n      <td>1</td>\n      <td>NaN</td>\n      <td>0</td>\n      <td>0</td>\n      <td>...</td>\n      <td>2.0</td>\n      <td>22</td>\n      <td>36</td>\n      <td>0</td>\n      <td>90</td>\n      <td>0</td>\n      <td>3</td>\n      <td>3</td>\n      <td>22</td>\n      <td>36</td>\n    </tr>\n    <tr>\n      <th>8501</th>\n      <td>Moulson</td>\n      <td>Matt</td>\n      <td>2014</td>\n      <td>97</td>\n      <td>0</td>\n      <td>0</td>\n      <td>1</td>\n      <td>NaN</td>\n      <td>0</td>\n      <td>0</td>\n      <td>...</td>\n      <td>NaN</td>\n      <td>0</td>\n      <td>0</td>\n      <td>0</td>\n      <td>90</td>\n      <td>0</td>\n      <td>3</td>\n      <td>3</td>\n      <td>26</td>\n      <td>38</td>\n    </tr>\n    <tr>\n      <th>8502</th>\n      <td>Diaz</td>\n      <td>Raphael</td>\n      <td>2014</td>\n      <td>33</td>\n      <td>0</td>\n      <td>1</td>\n      <td>1</td>\n      <td>NaN</td>\n      <td>0</td>\n      <td>0</td>\n      <td>...</td>\n      <td>NaN</td>\n      <td>0</td>\n      <td>0</td>\n      <td>0</td>\n      <td>120</td>\n      <td>2</td>\n      <td>3</td>\n      <td>3</td>\n      <td>6</td>\n      <td>15</td>\n    </tr>\n  </tbody>\n</table>\n<p>8503 rows × 60 columns</p>\n</div>"
     },
     "execution_count": 16,
     "metadata": {},
     "output_type": "execute_result"
    }
   ],
   "source": [
    "all_apba"
   ],
   "metadata": {
    "collapsed": false
   }
  },
  {
   "cell_type": "code",
   "execution_count": null,
   "outputs": [],
   "source": [],
   "metadata": {
    "collapsed": false
   }
  }
 ],
 "metadata": {
  "kernelspec": {
   "display_name": "Python 3",
   "language": "python",
   "name": "python3"
  },
  "language_info": {
   "codemirror_mode": {
    "name": "ipython",
    "version": 2
   },
   "file_extension": ".py",
   "mimetype": "text/x-python",
   "name": "python",
   "nbconvert_exporter": "python",
   "pygments_lexer": "ipython2",
   "version": "2.7.6"
  }
 },
 "nbformat": 4,
 "nbformat_minor": 0
}
