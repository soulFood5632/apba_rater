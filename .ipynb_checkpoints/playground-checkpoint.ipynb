{
 "cells": [
  {
   "cell_type": "code",
   "execution_count": null,
   "outputs": [],
   "source": [
    "import pandas as pd\n",
    "import os"
   ],
   "metadata": {
    "collapsed": false,
    "pycharm": {
     "is_executing": true
    }
   }
  },
  {
   "cell_type": "code",
   "execution_count": null,
   "metadata": {
    "collapsed": true,
    "pycharm": {
     "is_executing": true
    }
   },
   "outputs": [],
   "source": [
    "\n",
    "\n",
    "all_apba = pd.DataFrame()\n",
    "    # gets the list of all files in the apba folder.\n",
    "for file in os.listdir(\"apba_data\"):\n",
    "        # this should never be false\n",
    "        if file.endswith(\".csv\"):\n",
    "            # the year is in the last two digits of the file name beofre the .csv\n",
    "            year = file.split(\".\")[0][-2:]\n",
    "            year_data = pd.read_csv(\"apba_data/\" + file)\n",
    "            year_data[\"year\"] = year\n",
    "\n",
    "            all_apba = all_apba._append(year_data, ignore_index=True)\n",
    "print(all_apba.columns)"
   ]
  },
  {
   "cell_type": "code",
   "execution_count": null,
   "outputs": [],
   "source": [],
   "metadata": {
    "collapsed": false
   }
  }
 ],
 "metadata": {
  "kernelspec": {
   "display_name": "Python 3",
   "language": "python",
   "name": "python3"
  },
  "language_info": {
   "codemirror_mode": {
    "name": "ipython",
    "version": 2
   },
   "file_extension": ".py",
   "mimetype": "text/x-python",
   "name": "python",
   "nbconvert_exporter": "python",
   "pygments_lexer": "ipython2",
   "version": "2.7.6"
  }
 },
 "nbformat": 4,
 "nbformat_minor": 0
}
