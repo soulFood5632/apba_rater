{
 "cells": [
  {
   "cell_type": "code",
   "execution_count": null,
   "metadata": {},
   "outputs": [],
   "source": [
    "import pandas as pd\n",
    "import os\n",
    "\n",
    "\n",
    "# read the clipboard and skip the first 2 rows\n",
    "\n",
    "dfBasic = pd.read_clipboard(skiprows=2, header=None, sep=',')\n",
    "\n",
    "dfBasic"
   ]
  },
  {
   "cell_type": "code",
   "execution_count": null,
   "metadata": {},
   "outputs": [],
   "source": [
    "# add the custom headers\n",
    "headers = [\"Rk\", \"Player\", \"Age\", \"Tm\", \"Pos\", \"GP\", \"G\", \"A\", \"PTS\", \"PlusMin\", \"PIM\", \"PS\", \"G-EV\", \"G-PP\", \"G-SH\", \"G-GW\", \"A-EV\", \"A-PP\", \"A-SH\", \"SOG\", \"ShotPerc\", \"TOI\", \"ATOI\", \"BLK\", \"HIT\", \"FOW\", \"FOL\", \"FOPerc\", \"UID\"]\n",
    "\n",
    "dfBasic.columns = headers\n",
    "\n",
    "dfBasic"
   ]
  },
  {
   "cell_type": "code",
   "execution_count": null,
   "metadata": {},
   "outputs": [],
   "source": [
    "# Add the Season Field\n",
    "\n",
    "# Add a new column \"season\" with the value season name\n",
    "\n",
    "# Prompt the user for the \"season\" value\n",
    "season_value = input(\"Enter the season value (e.g., '22-23'): \")\n",
    "\n",
    "# Add a new column \"season\" with the user-inputted value\n",
    "dfBasic[\"season\"] = season_value\n",
    "\n",
    "dfBasic"
   ]
  },
  {
   "cell_type": "code",
   "execution_count": null,
   "metadata": {},
   "outputs": [],
   "source": [
    "# Drop the column named \"RK\"\n",
    "dfBasic.drop(\"Rk\", axis=1, errors='ignore', inplace=True)\n",
    "\n",
    "dfBasic"
   ]
  },
  {
   "cell_type": "code",
   "execution_count": null,
   "metadata": {},
   "outputs": [],
   "source": [
    "# # Construct the output file name\n",
    "# output_file_name = \"HockeyRef_Data_Files\\\" + f'{season_value}_BasicData.csv'\n",
    "\n",
    "# # Save the DataFrame to a CSV file with the constructed name\n",
    "# dfBasic.to_csv(output_file_name, index=False)\n",
    "\n",
    "# Construct the output file path\n",
    "output_folder = \"HockeyRef_Data_Files\"\n",
    "output_file_path = os.path.join(output_folder, f'{season_value}_BasicData.csv')\n",
    "\n",
    "# Save the DataFrame to a CSV file with the constructed path\n",
    "dfBasic.to_csv(output_file_path, index=False)"
   ]
  }
 ],
 "metadata": {
  "kernelspec": {
   "display_name": "Python 3",
   "language": "python",
   "name": "python3"
  },
  "language_info": {
   "codemirror_mode": {
    "name": "ipython",
    "version": 3
   },
   "file_extension": ".py",
   "mimetype": "text/x-python",
   "name": "python",
   "nbconvert_exporter": "python",
   "pygments_lexer": "ipython3",
   "version": "3.11.6"
  }
 },
 "nbformat": 4,
 "nbformat_minor": 2
}
