{
 "cells": [
  {
   "cell_type": "code",
   "execution_count": null,
   "metadata": {},
   "outputs": [],
   "source": [
    "import pandas as pd\n",
    "import os\n",
    "\n",
    "\n",
    "# read the clipboard and skip the first 2 rows\n",
    "\n",
    "dfBasic = pd.read_clipboard(skiprows=2, header=None, sep=',')\n",
    "\n",
    "dfBasic"
   ]
  },
  {
   "cell_type": "code",
   "execution_count": null,
   "metadata": {},
   "outputs": [],
   "source": [
    "# add the custom headers\n",
    "# Given text string\n",
    "header_text = \"Rk Player Age Tm Pos GP CorsiFor CorsiAgainst CorsiForPerc CorsiForPercRel FenwickF FenwickA FenwickPerc FenwickPercRel TeamOnIceShootPerc TeamOnIceSavePerc ShootPercPlusSavePerc OZoneStartPerc DZoneStartPerc ATOI ATOIEV TakeAways GiveAways EPlusMin ShotAttempts ShotThruPerc UID\"\n",
    "\n",
    "# Split the text string into a list of headers\n",
    "headers = header_text.split()\n",
    "\n",
    "dfBasic.columns = headers\n",
    "\n",
    "dfBasic"
   ]
  },
  {
   "cell_type": "code",
   "execution_count": null,
   "metadata": {},
   "outputs": [],
   "source": [
    "# Add the Season Field\n",
    "\n",
    "# Add a new column \"season\" with the value season name\n",
    "\n",
    "# Prompt the user for the \"season\" value\n",
    "season_value = input(\"Enter the season value (e.g., '22-23'): \")\n",
    "\n",
    "# Add a new column \"season\" with the user-inputted value\n",
    "dfBasic[\"season\"] = season_value\n",
    "\n",
    "dfBasic"
   ]
  },
  {
   "cell_type": "code",
   "execution_count": null,
   "metadata": {},
   "outputs": [],
   "source": [
    "# Drop the columns\n",
    "# Drop specified columns\n",
    "columns_to_drop = [\"Rk\", \"Player\", \"Age\", \"Tm\", \"Pos\", \"GP\", \"ATOI\"]\n",
    "dfBasic.drop(columns_to_drop, axis=1, errors='ignore', inplace=True)\n",
    "\n",
    "dfBasic"
   ]
  },
  {
   "cell_type": "code",
   "execution_count": null,
   "metadata": {},
   "outputs": [],
   "source": [
    "# Construct the output file path\n",
    "output_folder = \"HockeyRef_Data_Files\"\n",
    "output_file_path = os.path.join(output_folder, f'{season_value}_AdvancedData.csv')\n",
    "\n",
    "# Save the DataFrame to a CSV file with the constructed path\n",
    "dfBasic.to_csv(output_file_path, index=False)"
   ]
  }
 ],
 "metadata": {
  "kernelspec": {
   "display_name": "Python 3",
   "language": "python",
   "name": "python3"
  },
  "language_info": {
   "codemirror_mode": {
    "name": "ipython",
    "version": 3
   },
   "file_extension": ".py",
   "mimetype": "text/x-python",
   "name": "python",
   "nbconvert_exporter": "python",
   "pygments_lexer": "ipython3",
   "version": "3.11.6"
  }
 },
 "nbformat": 4,
 "nbformat_minor": 2
}
