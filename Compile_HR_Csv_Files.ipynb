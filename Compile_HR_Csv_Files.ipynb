{
 "cells": [
  {
   "cell_type": "code",
   "execution_count": null,
   "metadata": {},
   "outputs": [],
   "source": [
    "# check rows for each data file per season.  If totals aren't the same, don't procede - find out why the numbers don't match and fix\n",
    "import os\n",
    "import pandas as pd\n",
    "\n",
    "# List of prefixes\n",
    "prefixes = [\"14-15\", \"15-16\", \"16-17\", \"17-18\", \"18-19\", \"19-20\", \"20-21\", \"21-22\", \"22-23\", \"23-24\"]\n",
    "\n",
    "for prefix in prefixes:\n",
    "    # List of file names with the current prefix\n",
    "    file_names = [f\"{prefix}_BasicData.csv\", f\"{prefix}_AdvancedData.csv\", f\"{prefix}_MiscData.csv\", f\"{prefix}_TOIData.csv\"]\n",
    "\n",
    "    # Create an empty list to store DataFrames\n",
    "    dfs = []\n",
    "\n",
    "    # Read each CSV file, set 'UID' and 'season' as indices, and store the DataFrame in the list\n",
    "    for file_name in file_names:\n",
    "        file_path = os.path.join(\"HockeyRef_Data_Files\", file_name)\n",
    "        df = pd.read_csv(file_path)\n",
    "        df.set_index(['UID', 'season'], inplace=True)\n",
    "        dfs.append(df)\n",
    "\n",
    "    # Check if all DataFrames have the same number of rows\n",
    "    row_counts = [len(df) for df in dfs]\n",
    "    if len(set(row_counts)) == 1:\n",
    "        print(f\"All DataFrames for {prefix} have the same number of rows.\")\n",
    "    else:\n",
    "        print(f\"DataFrames for {prefix} have different numbers of rows. Please check the data.\")\n",
    "\n",
    "    # Continue with the merge only if all DataFrames have the same number of rows\n",
    "    if len(set(row_counts)) == 1:\n",
    "        # Create an empty DataFrame to store the combined data\n",
    "        combined_df = pd.DataFrame()\n",
    "\n",
    "        # Merge the DataFrames based on their indices\n",
    "        for df in dfs:\n",
    "            combined_df = pd.merge(combined_df, df, left_index=True, right_index=True, how=\"outer\")\n",
    "\n",
    "        # Resetting indices to default (0, 1, 2, ...) after the merge\n",
    "        combined_df.reset_index(inplace=True)\n",
    "\n",
    "        # Save the combined DataFrame to a new CSV file\n",
    "        combined_file_path = os.path.join(\"HockeyRef_Data_Files\", f\"{prefix}_CombinedData.csv\")\n",
    "        combined_df.to_csv(combined_file_path, index=False)\n",
    "\n",
    "        # Display the combined DataFrame\n",
    "        print(combined_df)\n",
    "\n",
    "\n",
    "\n"
   ]
  }
 ],
 "metadata": {
  "kernelspec": {
   "display_name": "Python 3",
   "language": "python",
   "name": "python3"
  },
  "language_info": {
   "codemirror_mode": {
    "name": "ipython",
    "version": 3
   },
   "file_extension": ".py",
   "mimetype": "text/x-python",
   "name": "python",
   "nbconvert_exporter": "python",
   "pygments_lexer": "ipython3",
   "version": "3.11.6"
  }
 },
 "nbformat": 4,
 "nbformat_minor": 2
}
